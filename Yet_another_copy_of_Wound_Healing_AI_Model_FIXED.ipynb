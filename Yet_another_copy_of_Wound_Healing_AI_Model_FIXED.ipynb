{
  "cells": [
    {
      "cell_type": "markdown",
      "metadata": {
        "id": "view-in-github",
        "colab_type": "text"
      },
      "source": [
        "<a href=\"https://colab.research.google.com/github/Aya-bio/woundwise-app/blob/main/Yet_another_copy_of_Wound_Healing_AI_Model_FIXED.ipynb\" target=\"_parent\"><img src=\"https://colab.research.google.com/assets/colab-badge.svg\" alt=\"Open In Colab\"/></a>"
      ]
    },
    {
      "cell_type": "code",
      "execution_count": null,
      "id": "uFzmx3uPaBGy",
      "metadata": {
        "id": "uFzmx3uPaBGy"
      },
      "outputs": [],
      "source": [
        "%%writefile wound_app.py\n",
        "import streamlit as st\n",
        "\n",
        "st.title(\"Smart Wound Healing AI Platform\")\n",
        "\n",
        "st.write(\"ده نموذج ذكي لتوصية أفضل علاج للجرح حسب بيانات الحالة.\")\n"
      ]
    },
    {
      "cell_type": "code",
      "execution_count": null,
      "id": "95ef988e",
      "metadata": {
        "colab": {
          "base_uri": "https://localhost:8080/",
          "height": 36
        },
        "id": "95ef988e",
        "outputId": "18280c16-07b8-475f-b8d3-dec53e317db4"
      },
      "outputs": [
        {
          "output_type": "display_data",
          "data": {
            "text/plain": [
              "<IPython.core.display.HTML object>"
            ],
            "text/html": [
              "\n",
              "     <input type=\"file\" id=\"files-94a1cf3f-16f4-4f84-8f9a-9798fefaadf7\" name=\"files[]\" multiple disabled\n",
              "        style=\"border:none\" />\n",
              "     <output id=\"result-94a1cf3f-16f4-4f84-8f9a-9798fefaadf7\">\n",
              "      Upload widget is only available when the cell has been executed in the\n",
              "      current browser session. Please rerun this cell to enable.\n",
              "      </output>\n",
              "      <script>// Copyright 2017 Google LLC\n",
              "//\n",
              "// Licensed under the Apache License, Version 2.0 (the \"License\");\n",
              "// you may not use this file except in compliance with the License.\n",
              "// You may obtain a copy of the License at\n",
              "//\n",
              "//      http://www.apache.org/licenses/LICENSE-2.0\n",
              "//\n",
              "// Unless required by applicable law or agreed to in writing, software\n",
              "// distributed under the License is distributed on an \"AS IS\" BASIS,\n",
              "// WITHOUT WARRANTIES OR CONDITIONS OF ANY KIND, either express or implied.\n",
              "// See the License for the specific language governing permissions and\n",
              "// limitations under the License.\n",
              "\n",
              "/**\n",
              " * @fileoverview Helpers for google.colab Python module.\n",
              " */\n",
              "(function(scope) {\n",
              "function span(text, styleAttributes = {}) {\n",
              "  const element = document.createElement('span');\n",
              "  element.textContent = text;\n",
              "  for (const key of Object.keys(styleAttributes)) {\n",
              "    element.style[key] = styleAttributes[key];\n",
              "  }\n",
              "  return element;\n",
              "}\n",
              "\n",
              "// Max number of bytes which will be uploaded at a time.\n",
              "const MAX_PAYLOAD_SIZE = 100 * 1024;\n",
              "\n",
              "function _uploadFiles(inputId, outputId) {\n",
              "  const steps = uploadFilesStep(inputId, outputId);\n",
              "  const outputElement = document.getElementById(outputId);\n",
              "  // Cache steps on the outputElement to make it available for the next call\n",
              "  // to uploadFilesContinue from Python.\n",
              "  outputElement.steps = steps;\n",
              "\n",
              "  return _uploadFilesContinue(outputId);\n",
              "}\n",
              "\n",
              "// This is roughly an async generator (not supported in the browser yet),\n",
              "// where there are multiple asynchronous steps and the Python side is going\n",
              "// to poll for completion of each step.\n",
              "// This uses a Promise to block the python side on completion of each step,\n",
              "// then passes the result of the previous step as the input to the next step.\n",
              "function _uploadFilesContinue(outputId) {\n",
              "  const outputElement = document.getElementById(outputId);\n",
              "  const steps = outputElement.steps;\n",
              "\n",
              "  const next = steps.next(outputElement.lastPromiseValue);\n",
              "  return Promise.resolve(next.value.promise).then((value) => {\n",
              "    // Cache the last promise value to make it available to the next\n",
              "    // step of the generator.\n",
              "    outputElement.lastPromiseValue = value;\n",
              "    return next.value.response;\n",
              "  });\n",
              "}\n",
              "\n",
              "/**\n",
              " * Generator function which is called between each async step of the upload\n",
              " * process.\n",
              " * @param {string} inputId Element ID of the input file picker element.\n",
              " * @param {string} outputId Element ID of the output display.\n",
              " * @return {!Iterable<!Object>} Iterable of next steps.\n",
              " */\n",
              "function* uploadFilesStep(inputId, outputId) {\n",
              "  const inputElement = document.getElementById(inputId);\n",
              "  inputElement.disabled = false;\n",
              "\n",
              "  const outputElement = document.getElementById(outputId);\n",
              "  outputElement.innerHTML = '';\n",
              "\n",
              "  const pickedPromise = new Promise((resolve) => {\n",
              "    inputElement.addEventListener('change', (e) => {\n",
              "      resolve(e.target.files);\n",
              "    });\n",
              "  });\n",
              "\n",
              "  const cancel = document.createElement('button');\n",
              "  inputElement.parentElement.appendChild(cancel);\n",
              "  cancel.textContent = 'Cancel upload';\n",
              "  const cancelPromise = new Promise((resolve) => {\n",
              "    cancel.onclick = () => {\n",
              "      resolve(null);\n",
              "    };\n",
              "  });\n",
              "\n",
              "  // Wait for the user to pick the files.\n",
              "  const files = yield {\n",
              "    promise: Promise.race([pickedPromise, cancelPromise]),\n",
              "    response: {\n",
              "      action: 'starting',\n",
              "    }\n",
              "  };\n",
              "\n",
              "  cancel.remove();\n",
              "\n",
              "  // Disable the input element since further picks are not allowed.\n",
              "  inputElement.disabled = true;\n",
              "\n",
              "  if (!files) {\n",
              "    return {\n",
              "      response: {\n",
              "        action: 'complete',\n",
              "      }\n",
              "    };\n",
              "  }\n",
              "\n",
              "  for (const file of files) {\n",
              "    const li = document.createElement('li');\n",
              "    li.append(span(file.name, {fontWeight: 'bold'}));\n",
              "    li.append(span(\n",
              "        `(${file.type || 'n/a'}) - ${file.size} bytes, ` +\n",
              "        `last modified: ${\n",
              "            file.lastModifiedDate ? file.lastModifiedDate.toLocaleDateString() :\n",
              "                                    'n/a'} - `));\n",
              "    const percent = span('0% done');\n",
              "    li.appendChild(percent);\n",
              "\n",
              "    outputElement.appendChild(li);\n",
              "\n",
              "    const fileDataPromise = new Promise((resolve) => {\n",
              "      const reader = new FileReader();\n",
              "      reader.onload = (e) => {\n",
              "        resolve(e.target.result);\n",
              "      };\n",
              "      reader.readAsArrayBuffer(file);\n",
              "    });\n",
              "    // Wait for the data to be ready.\n",
              "    let fileData = yield {\n",
              "      promise: fileDataPromise,\n",
              "      response: {\n",
              "        action: 'continue',\n",
              "      }\n",
              "    };\n",
              "\n",
              "    // Use a chunked sending to avoid message size limits. See b/62115660.\n",
              "    let position = 0;\n",
              "    do {\n",
              "      const length = Math.min(fileData.byteLength - position, MAX_PAYLOAD_SIZE);\n",
              "      const chunk = new Uint8Array(fileData, position, length);\n",
              "      position += length;\n",
              "\n",
              "      const base64 = btoa(String.fromCharCode.apply(null, chunk));\n",
              "      yield {\n",
              "        response: {\n",
              "          action: 'append',\n",
              "          file: file.name,\n",
              "          data: base64,\n",
              "        },\n",
              "      };\n",
              "\n",
              "      let percentDone = fileData.byteLength === 0 ?\n",
              "          100 :\n",
              "          Math.round((position / fileData.byteLength) * 100);\n",
              "      percent.textContent = `${percentDone}% done`;\n",
              "\n",
              "    } while (position < fileData.byteLength);\n",
              "  }\n",
              "\n",
              "  // All done.\n",
              "  yield {\n",
              "    response: {\n",
              "      action: 'complete',\n",
              "    }\n",
              "  };\n",
              "}\n",
              "\n",
              "scope.google = scope.google || {};\n",
              "scope.google.colab = scope.google.colab || {};\n",
              "scope.google.colab._files = {\n",
              "  _uploadFiles,\n",
              "  _uploadFilesContinue,\n",
              "};\n",
              "})(self);\n",
              "</script> "
            ]
          },
          "metadata": {}
        }
      ],
      "source": [
        "\n",
        "# Step 1: Upload the Excel file\n",
        "from google.colab import files\n",
        "uploaded = files.upload()\n"
      ]
    },
    {
      "cell_type": "code",
      "execution_count": null,
      "id": "a5233618",
      "metadata": {
        "id": "a5233618"
      },
      "outputs": [],
      "source": [
        "\n",
        "# Step 2: Read the Excel file\n",
        "import pandas as pd\n",
        "df = pd.read_excel(\"Wound_Healing_Simulation_Example_EN.xlsx\")  # Change name if using a different file\n",
        "df.head()\n"
      ]
    },
    {
      "cell_type": "code",
      "execution_count": null,
      "id": "55f5769f",
      "metadata": {
        "id": "55f5769f"
      },
      "outputs": [],
      "source": [
        "\n",
        "# Step 3: Encode categorical variables\n",
        "from sklearn.preprocessing import LabelEncoder\n",
        "\n",
        "label_encoders = {}\n",
        "for column in df.columns:\n",
        "    if df[column].dtype == 'object':\n",
        "        le = LabelEncoder()\n",
        "        df[column] = le.fit_transform(df[column])\n",
        "        label_encoders[column] = le\n"
      ]
    },
    {
      "cell_type": "code",
      "execution_count": null,
      "id": "a336015c",
      "metadata": {
        "id": "a336015c"
      },
      "outputs": [],
      "source": [
        "\n",
        "# Step 4: Prepare data for the model\n",
        "X = df.drop(\"Recommended Treatment\", axis=1)\n",
        "y = df[\"Recommended Treatment\"]\n"
      ]
    },
    {
      "cell_type": "code",
      "execution_count": null,
      "id": "f8954058",
      "metadata": {
        "id": "f8954058"
      },
      "outputs": [],
      "source": [
        "\n",
        "# Step 5: Train a simple Decision Tree model\n",
        "from sklearn.tree import DecisionTreeClassifier\n",
        "from sklearn.model_selection import train_test_split\n",
        "\n",
        "X_train, X_test, y_train, y_test = train_test_split(X, y, test_size=0.2, random_state=42)\n",
        "\n",
        "model = DecisionTreeClassifier()\n",
        "model.fit(X_train, y_train)\n",
        "\n",
        "accuracy = model.score(X_test, y_test)\n",
        "print(\"Model Accuracy:\", accuracy)\n"
      ]
    },
    {
      "cell_type": "code",
      "execution_count": null,
      "id": "PkJheubj1gdr",
      "metadata": {
        "id": "PkJheubj1gdr"
      },
      "outputs": [],
      "source": [
        "import pandas as pd\n",
        "import numpy as np\n",
        "\n",
        "new_case_df = pd.DataFrame(\n",
        "    [[37.5, 6.4, 78, 1, 1, 0, 0, 0]],\n",
        "    columns=X.columns\n",
        ")\n",
        "\n",
        "prediction = model.predict(new_case_df)\n",
        "treatment_index = prediction[0]\n",
        "treatment_name = y.unique()[treatment_index]\n",
        "\n",
        "print(\"Predicted Treatment:\", treatment_name)\n"
      ]
    },
    {
      "cell_type": "code",
      "execution_count": null,
      "id": "1j5CYbN42b4G",
      "metadata": {
        "id": "1j5CYbN42b4G"
      },
      "outputs": [],
      "source": [
        "print(\"All treatments list:\")\n",
        "print(y.unique())\n"
      ]
    },
    {
      "cell_type": "code",
      "execution_count": null,
      "id": "PLqy4Xr_Lvux",
      "metadata": {
        "id": "PLqy4Xr_Lvux"
      },
      "outputs": [],
      "source": [
        "import pandas as pd\n",
        "\n",
        "df = pd.read_excel(\"/content/Wound_Healing_Simulation_Example_EN.xlsx\")\n"
      ]
    },
    {
      "cell_type": "code",
      "execution_count": null,
      "id": "3CGe4W1FMSkW",
      "metadata": {
        "id": "3CGe4W1FMSkW"
      },
      "outputs": [],
      "source": [
        "from sklearn.preprocessing import LabelEncoder\n",
        "\n",
        "label_encoders = {}\n",
        "for column in df.columns:\n",
        "    if df[column].dtype == 'object':\n",
        "        le = LabelEncoder()\n",
        "        df[column] = le.fit_transform(df[column])\n",
        "        label_encoders[column] = le\n"
      ]
    },
    {
      "cell_type": "code",
      "execution_count": null,
      "id": "XCSwuU2fMbZl",
      "metadata": {
        "id": "XCSwuU2fMbZl"
      },
      "outputs": [],
      "source": [
        "from sklearn.tree import DecisionTreeClassifier\n",
        "from sklearn.model_selection import train_test_split\n",
        "\n",
        "X = df.drop(\"Recommended Treatment\", axis=1)\n",
        "y = df[\"Recommended Treatment\"]\n",
        "\n",
        "X_train, X_test, y_train, y_test = train_test_split(X, y, test_size=0.2, random_state=42)\n",
        "\n",
        "model = DecisionTreeClassifier()\n",
        "model.fit(X_train, y_train)\n"
      ]
    },
    {
      "cell_type": "code",
      "execution_count": null,
      "id": "oUunb8VJNAfR",
      "metadata": {
        "id": "oUunb8VJNAfR"
      },
      "outputs": [],
      "source": [
        "test_cases = [\n",
        "    [37.5, 6.4, 78, 1, 1, 0, 0, 0],\n",
        "    [36.9, 7.0, 65, 0, 0, 1, 1, 1],\n",
        "    [38.2, 5.9, 90, 1, 0, 2, 0, 0]\n",
        "]\n",
        "\n",
        "for i, case in enumerate(test_cases, start=1):\n",
        "    df_case = pd.DataFrame([case], columns=X.columns)\n",
        "    prediction = model.predict(df_case)\n",
        "    treatment = y.unique()[prediction[0]]\n",
        "    print(f\"Case {i} → Recommended Treatment:\", treatment)\n"
      ]
    },
    {
      "cell_type": "code",
      "execution_count": null,
      "id": "u4z-MD_HNKfK",
      "metadata": {
        "id": "u4z-MD_HNKfK"
      },
      "outputs": [],
      "source": [
        "test_cases = [\n",
        "    [37.5, 6.4, 78, 1, 1, 0, 0, 0],\n",
        "    [36.2, 7.2, 50, 0, 0, 1, 1, 1],\n",
        "    [38.8, 5.8, 95, 1, 0, 2, 0, 0],\n",
        "    [35.5, 7.4, 40, 0, 1, 3, 1, 1],\n",
        "    [39.1, 6.1, 88, 1, 1, 0, 0, 0]\n",
        "]\n"
      ]
    },
    {
      "cell_type": "code",
      "execution_count": null,
      "id": "1A4rfXjIOc6d",
      "metadata": {
        "id": "1A4rfXjIOc6d"
      },
      "outputs": [],
      "source": [
        "for i, case in enumerate(test_cases, start=1):\n",
        "    df_case = pd.DataFrame([case], columns=X.columns)\n",
        "    prediction = model.predict(df_case)\n",
        "    treatment = y.unique()[prediction[0]]\n",
        "    print(f\"Case {i} → Recommended Treatment:\", treatment)\n"
      ]
    },
    {
      "cell_type": "code",
      "execution_count": null,
      "id": "oYvaeM_8QGlr",
      "metadata": {
        "id": "oYvaeM_8QGlr"
      },
      "outputs": [],
      "source": [
        "test_cases = [\n",
        "    [38.9, 5.5, 92, 1, 1, 0, 0, 0],  # حالة قوية: عدوى + diabetic + pH منخفض\n",
        "    [35.4, 7.5, 40, 0, 0, 1, 1, 1],  # wound خفيف، healing سريع\n",
        "    [37.0, 6.8, 70, 1, 0, 2, 0, 1],  # مزمن، pH طبيعي\n",
        "    [36.1, 7.1, 55, 0, 1, 3, 1, 1],  # diabetic، wound بعد عملية\n",
        "    [39.2, 6.0, 88, 1, 1, 0, 0, 0]   # acute + infected + diabetic\n",
        "]\n"
      ]
    },
    {
      "cell_type": "code",
      "execution_count": null,
      "id": "ARiy6-kfQMfS",
      "metadata": {
        "id": "ARiy6-kfQMfS"
      },
      "outputs": [],
      "source": [
        "for i, case in enumerate(test_cases, start=1):\n",
        "    df_case = pd.DataFrame([case], columns=X.columns)\n",
        "    prediction = model.predict(df_case)\n",
        "    treatment = y.unique()[prediction[0]]\n",
        "    print(f\"Case {i} → Recommended Treatment:\", treatment)\n"
      ]
    },
    {
      "cell_type": "code",
      "execution_count": null,
      "id": "99ahYhwtSMIe",
      "metadata": {
        "id": "99ahYhwtSMIe"
      },
      "outputs": [],
      "source": [
        "import pandas as pd\n",
        "\n",
        "data = {\n",
        "    \"Temperature\": [38.5, 36.7, 37.8, 39.1, 35.9, 37.0, 38.2, 36.4, 39.0, 35.5],\n",
        "    \"pH\": [6.2, 7.4, 5.9, 6.1, 7.2, 6.5, 6.0, 7.3, 5.7, 7.1],\n",
        "    \"Moisture\": [85, 45, 92, 88, 50, 70, 80, 55, 95, 40],\n",
        "    \"Infection\": [1, 0, 1, 1, 0, 0, 1, 0, 1, 0],\n",
        "    \"Diabetic\": [1, 0, 1, 0, 1, 0, 1, 0, 1, 0],\n",
        "    \"Wound Type\": [0, 1, 2, 0, 3, 1, 2, 3, 0, 1],\n",
        "    \"Healing Fast\": [0, 1, 0, 0, 1, 1, 0, 1, 0, 1],\n",
        "    \"Recommended Treatment\": [\n",
        "        \"Patch with Stem Cells + Antibiotic\",\n",
        "        \"Patch with Stem Cells only\",\n",
        "        \"Patch with Strong Antimicrobial + GF\",\n",
        "        \"Patch with Collagen + Antibiotic\",\n",
        "        \"Patch with Collagen only\",\n",
        "        \"Patch with Stem Cells only\",\n",
        "        \"Patch with Strong Antimicrobial + GF\",\n",
        "        \"Patch with Collagen only\",\n",
        "        \"Patch with Stem Cells + Antibiotic\",\n",
        "        \"Patch with Collagen + Antibiotic\"\n",
        "    ]\n",
        "}\n",
        "\n",
        "df = pd.DataFrame(data)\n"
      ]
    },
    {
      "cell_type": "code",
      "execution_count": null,
      "id": "RrlNaNEYTBz1",
      "metadata": {
        "id": "RrlNaNEYTBz1"
      },
      "outputs": [],
      "source": [
        "from sklearn.preprocessing import LabelEncoder\n",
        "\n",
        "label_encoders = {}\n",
        "for column in df.columns:\n",
        "    if df[column].dtype == 'object':\n",
        "        le = LabelEncoder()\n",
        "        df[column] = le.fit_transform(df[column])\n",
        "        label_encoders[column] = le\n"
      ]
    },
    {
      "cell_type": "code",
      "execution_count": null,
      "id": "EGxBrB2mTRgh",
      "metadata": {
        "id": "EGxBrB2mTRgh"
      },
      "outputs": [],
      "source": [
        "X = df.drop(\"Recommended Treatment\", axis=1)\n",
        "y = df[\"Recommended Treatment\"]\n"
      ]
    },
    {
      "cell_type": "code",
      "execution_count": null,
      "id": "sNbQZip_TVZx",
      "metadata": {
        "id": "sNbQZip_TVZx"
      },
      "outputs": [],
      "source": [
        "from sklearn.tree import DecisionTreeClassifier\n",
        "from sklearn.model_selection import train_test_split\n",
        "\n",
        "X_train, X_test, y_train, y_test = train_test_split(X, y, test_size=0.2, random_state=42)\n",
        "\n",
        "model = DecisionTreeClassifier()\n",
        "model.fit(X_train, y_train)\n"
      ]
    },
    {
      "cell_type": "code",
      "execution_count": null,
      "id": "2UkruO3JTjOo",
      "metadata": {
        "id": "2UkruO3JTjOo"
      },
      "outputs": [],
      "source": [
        "test_cases = [\n",
        "    [38.9, 5.5, 92, 1, 1, 0, 0],\n",
        "    [35.4, 7.5, 40, 0, 0, 1, 1],\n",
        "    [37.0, 6.8, 70, 1, 0, 2, 0],\n",
        "    [36.1, 7.1, 55, 0, 1, 3, 1],\n",
        "    [39.2, 6.0, 88, 1, 1, 0, 0]\n",
        "]\n",
        "\n",
        "for i, case in enumerate(test_cases, start=1):\n",
        "    df_case = pd.DataFrame([case], columns=X.columns)\n",
        "    prediction = model.predict(df_case)\n",
        "    treatment = label_encoders[\"Recommended Treatment\"].inverse_transform(prediction)\n",
        "    print(f\"Case {i} → Recommended Treatment: {treatment[0]}\")\n"
      ]
    },
    {
      "cell_type": "code",
      "execution_count": null,
      "id": "bGvpSQkBftIp",
      "metadata": {
        "id": "bGvpSQkBftIp"
      },
      "outputs": [],
      "source": [
        "import pandas as pd\n",
        "\n",
        "\n",
        "data = {\n",
        "    \"Temperature\": [38.5, 36.7, 37.8, 39.1, 35.9, 37.0, 38.2, 36.4, 39.0, 35.5],\n",
        "    \"pH\": [6.2, 7.4, 5.9, 6.1, 7.2, 6.5, 6.0, 7.3, 5.7, 7.1],\n",
        "    \"Moisture\": [85, 45, 92, 88, 50, 70, 80, 55, 95, 40],\n",
        "    \"Infection\": [1, 0, 1, 1, 0, 0, 1, 0, 1, 0],\n",
        "    \"Diabetic\": [1, 0, 1, 0, 1, 0, 1, 0, 1, 0],\n",
        "    \"Wound Type\": [0, 1, 2, 0, 3, 1, 2, 3, 0, 1],\n",
        "    \"Healing Fast\": [0, 1, 0, 0, 1, 1, 0, 1, 0, 1],\n",
        "    \"Gender\": [\"Male\", \"Female\", \"Male\", \"Female\", \"Male\", \"Female\", \"Male\", \"Female\", \"Male\", \"Female\"],\n",
        "    \"Age\": [65, 28, 70, 35, 55, 24, 67, 40, 73, 30],\n",
        "    \"Recommended Treatment\": [\n",
        "        \"Patch with Stem Cells + Antibiotic\",\n",
        "        \"Patch with Stem Cells only\",\n",
        "        \"Patch with Strong Antimicrobial + GF\",\n",
        "        \"Patch with Collagen + Antibiotic\",\n",
        "        \"Patch with Collagen only\",\n",
        "        \"Patch with Stem Cells only\",\n",
        "        \"Patch with Strong Antimicrobial + GF\",\n",
        "        \"Patch with Collagen only\",\n",
        "        \"Patch with Stem Cells + Antibiotic\",\n",
        "        \"Patch with Collagen + Antibiotic\"\n",
        "    ]\n",
        "}\n",
        "\n",
        "df = pd.DataFrame(data)\n"
      ]
    },
    {
      "cell_type": "code",
      "execution_count": null,
      "id": "D4hYPtH1gIkV",
      "metadata": {
        "id": "D4hYPtH1gIkV"
      },
      "outputs": [],
      "source": [
        "from sklearn.preprocessing import LabelEncoder\n",
        "\n",
        "label_encoders = {}\n",
        "for column in df.columns:\n",
        "    if df[column].dtype == 'object':\n",
        "        le = LabelEncoder()\n",
        "        df[column] = le.fit_transform(df[column])\n",
        "        label_encoders[column] = le\n"
      ]
    },
    {
      "cell_type": "code",
      "execution_count": null,
      "id": "KSbO3wBjgY0v",
      "metadata": {
        "id": "KSbO3wBjgY0v"
      },
      "outputs": [],
      "source": [
        "\n",
        "X = df.drop(\"Recommended Treatment\", axis=1)\n",
        "y = df[\"Recommended Treatment\"]\n",
        "\n",
        "\n",
        "from sklearn.tree import DecisionTreeClassifier\n",
        "from sklearn.model_selection import train_test_split\n",
        "\n",
        "X_train, X_test, y_train, y_test = train_test_split(X, y, test_size=0.2, random_state=42)\n",
        "\n",
        "model = DecisionTreeClassifier()\n",
        "model.fit(X_train, y_train)\n",
        "\n",
        "test_cases = [\n",
        "    [39.0, 6.0, 88, 1, 1, 0, 0, 0, 66],  # Male, 66 سنة\n",
        "    [35.5, 7.5, 40, 0, 0, 1, 1, 1, 10],  # Female, طفلة عمرها 10 سنين\n",
        "    [37.2, 6.8, 75, 0, 1, 2, 1, 1, 72],  # Female, 72 سنة\n",
        "]\n",
        "\n",
        "for i, case in enumerate(test_cases, start=1):\n",
        "    df_case = pd.DataFrame([case], columns=X.columns)\n",
        "    prediction = model.predict(df_case)\n",
        "    treatment = label_encoders[\"Recommended Treatment\"].inverse_transform(prediction)\n",
        "    print(f\"Case {i} → Recommended Treatment: {treatment[0]}\")\n"
      ]
    },
    {
      "cell_type": "code",
      "execution_count": null,
      "id": "KXs5V33wipOr",
      "metadata": {
        "id": "KXs5V33wipOr"
      },
      "outputs": [],
      "source": [
        "test_cases_detailed = [\n",
        "    {\"Temperature\": 39.0, \"pH\": 6.0, \"Moisture\": 88, \"Infection\": 1, \"Diabetic\": 1, \"Wound Type\": 0, \"Healing Fast\": 0, \"Gender\": \"Male\", \"Age\": 66},\n",
        "    {\"Temperature\": 35.5, \"pH\": 7.5, \"Moisture\": 40, \"Infection\": 0, \"Diabetic\": 0, \"Wound Type\": 1, \"Healing Fast\": 1, \"Gender\": \"Female\", \"Age\": 10},\n",
        "    {\"Temperature\": 37.2, \"pH\": 6.8, \"Moisture\": 75, \"Infection\": 0, \"Diabetic\": 1, \"Wound Type\": 2, \"Healing Fast\": 1, \"Gender\": \"Female\", \"Age\": 72},\n",
        "    {\"Temperature\": 36.6, \"pH\": 6.9, \"Moisture\": 60, \"Infection\": 1, \"Diabetic\": 0, \"Wound Type\": 1, \"Healing Fast\": 0, \"Gender\": \"Male\", \"Age\": 45},\n",
        "    {\"Temperature\": 38.1, \"pH\": 5.8, \"Moisture\": 90, \"Infection\": 1, \"Diabetic\": 1, \"Wound Type\": 0, \"Healing Fast\": 0, \"Gender\": \"Female\", \"Age\": 34}\n",
        "]\n",
        "\n",
        "for i, case in enumerate(test_cases_detailed, start=1):\n",
        "    df_case = pd.DataFrame([case])\n",
        "    df_case[\"Gender\"] = label_encoders[\"Gender\"].transform(df_case[\"Gender\"])\n",
        "    df_case = df_case[X.columns]\n",
        "    prediction = model.predict(df_case)\n",
        "    treatment = label_encoders[\"Recommended Treatment\"].inverse_transform(prediction)[0]\n",
        "    gender_readable = \"Male\" if case[\"Gender\"] == \"Male\" else \"Female\"\n",
        "    print(f\"Case {i}:\")\n",
        "    print(f\"  Gender: {gender_readable}\")\n",
        "    print(f\"  Age: {case['Age']}\")\n",
        "    print(f\"  Predicted Treatment: {treatment}\\n\")\n"
      ]
    },
    {
      "cell_type": "code",
      "execution_count": null,
      "id": "Dy72zGqGkksX",
      "metadata": {
        "id": "Dy72zGqGkksX"
      },
      "outputs": [],
      "source": [
        "kids_cases = [\n",
        "    {\"Temperature\": 37.0, \"pH\": 6.8, \"Moisture\": 70, \"Infection\": 1, \"Diabetic\": 0, \"Wound Type\": 1, \"Healing Fast\": 1, \"Gender\": \"Female\", \"Age\": 7},\n",
        "    {\"Temperature\": 38.3, \"pH\": 6.0, \"Moisture\": 85, \"Infection\": 1, \"Diabetic\": 1, \"Wound Type\": 0, \"Healing Fast\": 0, \"Gender\": \"Male\", \"Age\": 9},\n",
        "    {\"Temperature\": 36.5, \"pH\": 7.3, \"Moisture\": 50, \"Infection\": 0, \"Diabetic\": 0, \"Wound Type\": 2, \"Healing Fast\": 1, \"Gender\": \"Female\", \"Age\": 6},\n",
        "    {\"Temperature\": 37.8, \"pH\": 6.5, \"Moisture\": 75, \"Infection\": 1, \"Diabetic\": 0, \"Wound Type\": 1, \"Healing Fast\": 0, \"Gender\": \"Male\", \"Age\": 8},\n",
        "    {\"Temperature\": 35.9, \"pH\": 7.1, \"Moisture\": 60, \"Infection\": 0, \"Diabetic\": 0, \"Wound Type\": 3, \"Healing Fast\": 1, \"Gender\": \"Female\", \"Age\": 5}\n",
        "]\n",
        "\n",
        "for i, case in enumerate(kids_cases, start=1):\n",
        "    df_case = pd.DataFrame([case])\n",
        "    df_case[\"Gender\"] = label_encoders[\"Gender\"].transform(df_case[\"Gender\"])\n",
        "    df_case = df_case[X.columns]\n",
        "    prediction = model.predict(df_case)\n",
        "    treatment = label_encoders[\"Recommended Treatment\"].inverse_transform(prediction)[0]\n",
        "    gender_readable = \"Male\" if case[\"Gender\"] == \"Male\" else \"Female\"\n",
        "    print(f\"Child Case {i}:\")\n",
        "    print(f\"  Gender: {gender_readable}\")\n",
        "    print(f\"  Age: {case['Age']}\")\n",
        "    print(f\"  Predicted Treatment: {treatment}\\n\")\n"
      ]
    },
    {
      "cell_type": "code",
      "execution_count": null,
      "id": "aO22wDurCxnU",
      "metadata": {
        "id": "aO22wDurCxnU"
      },
      "outputs": [],
      "source": [
        "from sklearn.metrics import accuracy_score, confusion_matrix, classification_report\n",
        "import seaborn as sns\n",
        "import matplotlib.pyplot as plt\n",
        "import numpy as np\n",
        "\n",
        "y_pred = model.predict(X_test)\n",
        "\n",
        "acc = accuracy_score(y_test, y_pred)\n",
        "print(\"Accuracy:\", acc)\n",
        "\n",
        "cm = confusion_matrix(y_test, y_pred)\n",
        "plt.figure(figsize=(8,6))\n",
        "sns.heatmap(cm, annot=True, fmt='d', cmap='Blues')\n",
        "plt.title('Confusion Matrix')\n",
        "plt.xlabel('Predicted')\n",
        "plt.ylabel('Actual')\n",
        "plt.show()\n",
        "\n",
        "print(\"\\nClassification Report:\")\n",
        "# Get the unique labels present in both y_test and y_pred\n",
        "unique_labels = np.unique(np.concatenate((y_test, y_pred)))\n",
        "# Get the corresponding target names\n",
        "target_names_subset = [label_encoders[\"Recommended Treatment\"].classes_[label] for label in unique_labels]\n",
        "\n",
        "print(classification_report(y_test, y_pred, labels=unique_labels, target_names=target_names_subset))"
      ]
    },
    {
      "cell_type": "code",
      "execution_count": null,
      "id": "tvp979flDpTE",
      "metadata": {
        "id": "tvp979flDpTE"
      },
      "outputs": [],
      "source": [
        "print(classification_report(y_test, y_pred, zero_division=1))\n"
      ]
    },
    {
      "cell_type": "code",
      "execution_count": null,
      "id": "tB5iZtxHE_Wd",
      "metadata": {
        "id": "tB5iZtxHE_Wd"
      },
      "outputs": [],
      "source": [
        "from sklearn.ensemble import RandomForestClassifier\n",
        "model = RandomForestClassifier()\n"
      ]
    },
    {
      "cell_type": "code",
      "execution_count": null,
      "id": "LbUxvMc9FuvS",
      "metadata": {
        "id": "LbUxvMc9FuvS"
      },
      "outputs": [],
      "source": [
        "scores = cross_val_score(model, X, y, cv=2)\n",
        "print(\"Mean accuracy:\", scores.mean())\n"
      ]
    },
    {
      "cell_type": "code",
      "execution_count": null,
      "id": "1efs_P6QGfux",
      "metadata": {
        "id": "1efs_P6QGfux"
      },
      "outputs": [],
      "source": [
        "from sklearn.ensemble import RandomForestClassifier\n",
        "\n",
        "model = RandomForestClassifier(random_state=42)\n",
        "model.fit(X_train, y_train)\n"
      ]
    },
    {
      "cell_type": "code",
      "execution_count": null,
      "id": "g3P_nV83Gpoo",
      "metadata": {
        "id": "g3P_nV83Gpoo"
      },
      "outputs": [],
      "source": [
        "y_pred = model.predict(X_test)\n",
        "\n",
        "from sklearn.metrics import accuracy_score\n",
        "acc = accuracy_score(y_test, y_pred)\n",
        "print(\"Accuracy:\", acc)\n"
      ]
    },
    {
      "cell_type": "code",
      "execution_count": null,
      "id": "nnNY7d4sG4C2",
      "metadata": {
        "id": "nnNY7d4sG4C2"
      },
      "outputs": [],
      "source": [
        "from sklearn.model_selection import cross_val_score\n",
        "scores = cross_val_score(model, X, y, cv=2)\n",
        "print(\"Mean accuracy:\", scores.mean())\n"
      ]
    },
    {
      "cell_type": "code",
      "execution_count": null,
      "id": "lC-yv0dnHLth",
      "metadata": {
        "id": "lC-yv0dnHLth"
      },
      "outputs": [],
      "source": [
        "import matplotlib.pyplot as plt\n",
        "import seaborn as sns\n",
        "\n",
        "feature_importances = pd.Series(model.feature_importances_, index=X.columns)\n",
        "feature_importances.nlargest(10).plot(kind='barh')\n",
        "plt.title(\"Feature Importance\")\n",
        "plt.show()\n"
      ]
    },
    {
      "cell_type": "code",
      "execution_count": null,
      "id": "e_gR1KLCFPvv",
      "metadata": {
        "id": "e_gR1KLCFPvv"
      },
      "outputs": [],
      "source": [
        "from sklearn.linear_model import LogisticRegression\n"
      ]
    },
    {
      "cell_type": "code",
      "execution_count": null,
      "id": "9WuXfNSsH29Q",
      "metadata": {
        "id": "9WuXfNSsH29Q"
      },
      "outputs": [],
      "source": [
        "from sklearn.model_selection import train_test_split\n",
        "\n",
        "X_train, X_test, y_train, y_test = train_test_split(X, y, test_size=0.2, random_state=42)\n"
      ]
    },
    {
      "cell_type": "code",
      "execution_count": null,
      "id": "0RTyCxu_IAUN",
      "metadata": {
        "id": "0RTyCxu_IAUN"
      },
      "outputs": [],
      "source": [
        "print(\"Train labels distribution:\")\n",
        "print(y_train.value_counts())\n",
        "\n",
        "print(\"\\nTest labels distribution:\")\n",
        "print(y_test.value_counts())\n"
      ]
    },
    {
      "cell_type": "code",
      "execution_count": null,
      "id": "xB_FY79IIJ1f",
      "metadata": {
        "id": "xB_FY79IIJ1f"
      },
      "outputs": [],
      "source": [
        "y_train_pred = model.predict(X_train)\n",
        "from sklearn.metrics import accuracy_score\n",
        "print(\"Train accuracy:\", accuracy_score(y_train, y_train_pred))\n"
      ]
    },
    {
      "cell_type": "code",
      "execution_count": null,
      "id": "OKb2bcHzIoA3",
      "metadata": {
        "id": "OKb2bcHzIoA3"
      },
      "outputs": [],
      "source": [
        "print(\"Unique classes in train:\", set(y_train.unique()))\n",
        "print(\"Unique classes in test:\", set(y_test.unique()))\n"
      ]
    },
    {
      "cell_type": "code",
      "execution_count": null,
      "id": "zVOARJ_DIqlR",
      "metadata": {
        "id": "zVOARJ_DIqlR"
      },
      "outputs": [],
      "source": [
        "X_train, X_test, y_train, y_test = train_test_split(X, y, test_size=0.2, random_state=42, shuffle=True)\n"
      ]
    },
    {
      "cell_type": "code",
      "execution_count": null,
      "id": "1YjQd9EkI0mq",
      "metadata": {
        "id": "1YjQd9EkI0mq"
      },
      "outputs": [],
      "source": [
        "from sklearn.model_selection import train_test_split\n",
        "\n",
        "X_train, X_test, y_train, y_test = train_test_split(X, y, test_size=0.2, random_state=42, shuffle=True)\n"
      ]
    },
    {
      "cell_type": "code",
      "execution_count": null,
      "id": "NsYhQQ_8JQIz",
      "metadata": {
        "id": "NsYhQQ_8JQIz"
      },
      "outputs": [],
      "source": [
        "from sklearn.ensemble import RandomForestClassifier\n",
        "\n",
        "model = RandomForestClassifier(random_state=42)\n",
        "model.fit(X_train, y_train)\n",
        "\n",
        "y_pred = model.predict(X_test)\n",
        "\n",
        "from sklearn.metrics import accuracy_score\n",
        "acc = accuracy_score(y_test, y_pred)\n",
        "print(\"Test Accuracy:\", acc)\n"
      ]
    },
    {
      "cell_type": "code",
      "execution_count": null,
      "id": "kIEPzVjZJmmL",
      "metadata": {
        "id": "kIEPzVjZJmmL"
      },
      "outputs": [],
      "source": [
        "print(\"Train classes:\", sorted(y_train.unique()))\n",
        "print(\"Test classes:\", sorted(y_test.unique()))\n"
      ]
    },
    {
      "cell_type": "code",
      "execution_count": null,
      "id": "lxO0WslqJpF3",
      "metadata": {
        "id": "lxO0WslqJpF3"
      },
      "outputs": [],
      "source": [
        "print(\"Train size:\", len(X_train))\n",
        "print(\"Test size:\", len(X_test))\n"
      ]
    },
    {
      "cell_type": "code",
      "execution_count": null,
      "id": "wvUN-sP-MXIC",
      "metadata": {
        "id": "wvUN-sP-MXIC"
      },
      "outputs": [],
      "source": [
        "scores = cross_val_score(model, X, y, cv=2)\n",
        "print(\"Cross-validation mean accuracy:\", scores.mean())\n"
      ]
    },
    {
      "cell_type": "code",
      "execution_count": null,
      "id": "oyXSNuEdMce7",
      "metadata": {
        "id": "oyXSNuEdMce7"
      },
      "outputs": [],
      "source": [
        "print(len(X), len(y))\n"
      ]
    },
    {
      "cell_type": "code",
      "execution_count": null,
      "id": "peAJnDmMMjwN",
      "metadata": {
        "id": "peAJnDmMMjwN"
      },
      "outputs": [],
      "source": [
        "print(X.isnull().sum())\n",
        "print(y.isnull().sum())\n"
      ]
    },
    {
      "cell_type": "code",
      "execution_count": null,
      "id": "92SLgVIgNIkT",
      "metadata": {
        "id": "92SLgVIgNIkT"
      },
      "outputs": [],
      "source": [
        "from sklearn.ensemble import RandomForestClassifier\n",
        "from sklearn.model_selection import cross_val_score\n",
        "\n",
        "model = RandomForestClassifier(random_state=42)\n",
        "scores = cross_val_score(model, X, y, cv=2)\n",
        "print(\"Cross-validation mean accuracy:\", scores.mean())\n"
      ]
    },
    {
      "cell_type": "code",
      "execution_count": null,
      "id": "o7Q881jvNlFn",
      "metadata": {
        "id": "o7Q881jvNlFn"
      },
      "outputs": [],
      "source": [
        "model = RandomForestClassifier(\n",
        "    n_estimators=200,\n",
        "    random_state=42\n",
        ")\n",
        "scores = cross_val_score(model, X, y, cv=2)\n",
        "print(\"CV mean accuracy with 200 trees:\", scores.mean())\n"
      ]
    },
    {
      "cell_type": "code",
      "execution_count": null,
      "id": "yEuM4rkMN_ft",
      "metadata": {
        "id": "yEuM4rkMN_ft"
      },
      "outputs": [],
      "source": [
        "for depth in [3, 5, 7, None]:\n",
        "    model = RandomForestClassifier(\n",
        "        n_estimators=200,\n",
        "        max_depth=depth,\n",
        "        random_state=42\n",
        "    )\n",
        "    scores = cross_val_score(model, X, y, cv=2)\n",
        "    print(f\"CV mean accuracy with max_depth={depth}:\", scores.mean())\n"
      ]
    },
    {
      "cell_type": "code",
      "execution_count": null,
      "id": "gqRVS8OROfAe",
      "metadata": {
        "id": "gqRVS8OROfAe"
      },
      "outputs": [],
      "source": [
        "model = RandomForestClassifier(n_estimators=200, random_state=42)\n",
        "model.fit(X, y)\n",
        "\n",
        "import matplotlib.pyplot as plt\n",
        "import pandas as pd\n",
        "\n",
        "feature_importances = pd.Series(model.feature_importances_, index=X.columns)\n",
        "feature_importances.nlargest(10).plot(kind='barh')\n",
        "plt.title(\"Feature Importance\")\n",
        "plt.show()\n"
      ]
    },
    {
      "cell_type": "code",
      "execution_count": null,
      "id": "EKnlTxwIR2xH",
      "metadata": {
        "id": "EKnlTxwIR2xH"
      },
      "outputs": [],
      "source": [
        "print(X.columns.tolist())\n"
      ]
    },
    {
      "cell_type": "code",
      "execution_count": null,
      "id": "IG-YbfS2SGj2",
      "metadata": {
        "id": "IG-YbfS2SGj2"
      },
      "outputs": [],
      "source": [
        "top_features = ['Temperature', 'Moisture', 'pH', 'Diabetic', 'Healing Fast', 'Age', 'Gender', 'Infection', 'Wound Type']\n",
        "X_top = X[top_features]\n",
        "\n",
        "model = RandomForestClassifier(n_estimators=200, random_state=42)\n",
        "scores = cross_val_score(model, X_top, y, cv=2)\n",
        "print(\"CV mean accuracy with all 9 corrected features:\", scores.mean())\n"
      ]
    },
    {
      "cell_type": "code",
      "execution_count": null,
      "id": "m6ECC_dVSy8H",
      "metadata": {
        "id": "m6ECC_dVSy8H"
      },
      "outputs": [],
      "source": [
        "top_features = ['Temperature', 'Moisture', 'pH', 'Diabetic', 'Healing Fast', 'Age']\n"
      ]
    },
    {
      "cell_type": "code",
      "execution_count": null,
      "id": "MaCiWsQHS_Ym",
      "metadata": {
        "id": "MaCiWsQHS_Ym"
      },
      "outputs": [],
      "source": [
        "X_top = X[top_features]\n",
        "\n",
        "model = RandomForestClassifier(n_estimators=200, random_state=42)\n",
        "scores = cross_val_score(model, X_top, y, cv=2)\n",
        "print(\"CV mean accuracy with top 6 features:\", scores.mean())\n"
      ]
    },
    {
      "cell_type": "code",
      "execution_count": null,
      "id": "ENOd8UDcTShx",
      "metadata": {
        "id": "ENOd8UDcTShx"
      },
      "outputs": [],
      "source": [
        "from sklearn.linear_model import LogisticRegression\n",
        "from sklearn.model_selection import cross_val_score\n",
        "\n",
        "model = LogisticRegression(max_iter=1000)\n",
        "scores = cross_val_score(model, X_top, y, cv=2)\n",
        "print(\"CV mean accuracy with Logistic Regression:\", scores.mean())\n"
      ]
    },
    {
      "cell_type": "code",
      "execution_count": null,
      "id": "pJUW5g6UTnrt",
      "metadata": {
        "id": "pJUW5g6UTnrt"
      },
      "outputs": [],
      "source": [
        "from sklearn.preprocessing import StandardScaler\n",
        "from sklearn.linear_model import LogisticRegression\n",
        "from sklearn.model_selection import cross_val_score\n",
        "\n",
        "# Step 1: Scale the features\n",
        "scaler = StandardScaler()\n",
        "X_scaled = scaler.fit_transform(X_top)\n",
        "\n",
        "# Step 2: Train and evaluate\n",
        "model = LogisticRegression(max_iter=1000)\n",
        "scores = cross_val_score(model, X_scaled, y, cv=2)\n",
        "print(\"CV mean accuracy with Logistic Regression (scaled):\", scores.mean())\n"
      ]
    },
    {
      "cell_type": "code",
      "execution_count": null,
      "id": "njJiLDspUHm7",
      "metadata": {
        "id": "njJiLDspUHm7"
      },
      "outputs": [],
      "source": [
        "from sklearn.svm import SVC\n",
        "from sklearn.model_selection import cross_val_score\n",
        "from sklearn.preprocessing import StandardScaler\n",
        "\n",
        "# Feature scaling\n",
        "scaler = StandardScaler()\n",
        "X_scaled = scaler.fit_transform(X_top)\n",
        "\n",
        "# SVM model\n",
        "model = SVC(kernel='rbf')\n",
        "scores = cross_val_score(model, X_scaled, y, cv=2)\n",
        "print(\"CV mean accuracy with SVM:\", scores.mean())\n"
      ]
    },
    {
      "cell_type": "code",
      "execution_count": null,
      "id": "e2JeI9dQUqT2",
      "metadata": {
        "id": "e2JeI9dQUqT2"
      },
      "outputs": [],
      "source": [
        "from xgboost import XGBClassifier\n",
        "from sklearn.model_selection import cross_val_score\n",
        "from sklearn.preprocessing import StandardScaler\n",
        "\n",
        "# Feature scaling\n",
        "scaler = StandardScaler()\n",
        "X_scaled = scaler.fit_transform(X_top)\n",
        "\n",
        "# XGBoost model\n",
        "model = XGBClassifier(use_label_encoder=False, eval_metric='mlogloss', random_state=42)\n",
        "scores = cross_val_score(model, X_scaled, y, cv=2)\n",
        "print(\"CV mean accuracy with XGBoost:\", scores.mean())\n"
      ]
    },
    {
      "cell_type": "code",
      "execution_count": null,
      "id": "_ZcUzL7qVDQr",
      "metadata": {
        "id": "_ZcUzL7qVDQr"
      },
      "outputs": [],
      "source": [
        "from sklearn.ensemble import RandomForestClassifier\n",
        "from sklearn.model_selection import GridSearchCV\n",
        "from sklearn.preprocessing import StandardScaler\n",
        "\n",
        "# Feature scaling\n",
        "scaler = StandardScaler()\n",
        "X_scaled = scaler.fit_transform(X_top)\n",
        "\n",
        "# Parameter grid\n",
        "param_grid = {\n",
        "    'n_estimators': [100, 200, 300],\n",
        "    'max_depth': [3, 5, None],\n",
        "    'max_features': ['sqrt', 'log2']\n",
        "}\n",
        "\n",
        "# Model\n",
        "model = RandomForestClassifier(random_state=42)\n",
        "\n",
        "# Grid search\n",
        "grid_search = GridSearchCV(model, param_grid, cv=2)\n",
        "grid_search.fit(X_scaled, y)\n",
        "\n",
        "# Best result\n",
        "print(\"Best parameters:\", grid_search.best_params_)\n",
        "print(\"Best cross-validation score:\", grid_search.best_score_)\n"
      ]
    },
    {
      "cell_type": "code",
      "execution_count": null,
      "id": "cD5YMkfMVbZy",
      "metadata": {
        "id": "cD5YMkfMVbZy"
      },
      "outputs": [],
      "source": [
        "import pandas as pd\n",
        "print(pd.Series(y).value_counts())\n"
      ]
    },
    {
      "cell_type": "code",
      "execution_count": null,
      "id": "VkTH23JKWPWO",
      "metadata": {
        "id": "VkTH23JKWPWO"
      },
      "outputs": [],
      "source": [
        "from sklearn.tree import DecisionTreeClassifier\n",
        "from sklearn.model_selection import cross_val_score\n",
        "from sklearn.preprocessing import StandardScaler\n",
        "\n",
        "# Scaling\n",
        "scaler = StandardScaler()\n",
        "X_scaled = scaler.fit_transform(X_top)\n",
        "\n",
        "# Decision Tree with very low depth\n",
        "model = DecisionTreeClassifier(max_depth=2, random_state=42)\n",
        "scores = cross_val_score(model, X_scaled, y, cv=2)\n",
        "print(\"CV mean accuracy with simple Decision Tree:\", scores.mean())\n"
      ]
    },
    {
      "cell_type": "code",
      "execution_count": null,
      "id": "iXc9GB-kW2sV",
      "metadata": {
        "id": "iXc9GB-kW2sV"
      },
      "outputs": [],
      "source": [
        "from imblearn.over_sampling import RandomOverSampler\n",
        "from sklearn.ensemble import RandomForestClassifier\n",
        "from sklearn.model_selection import cross_val_score\n",
        "from sklearn.preprocessing import StandardScaler\n",
        "\n",
        "# Step 1: Feature scaling\n",
        "scaler = StandardScaler()\n",
        "X_scaled = scaler.fit_transform(X_top)\n",
        "\n",
        "# Step 2: Oversampling\n",
        "ros = RandomOverSampler(random_state=42)\n",
        "X_resampled, y_resampled = ros.fit_resample(X_scaled, y)\n",
        "\n",
        "# Step 3: Train and evaluate\n",
        "model = RandomForestClassifier(n_estimators=200, max_depth=3, max_features='sqrt', random_state=42)\n",
        "scores = cross_val_score(model, X_resampled, y_resampled, cv=2)\n",
        "print(\"CV mean accuracy after oversampling:\", scores.mean())\n"
      ]
    },
    {
      "cell_type": "code",
      "execution_count": null,
      "id": "F7IHGQ6yXVdN",
      "metadata": {
        "id": "F7IHGQ6yXVdN"
      },
      "outputs": [],
      "source": [
        "from imblearn.over_sampling import SMOTE\n",
        "from sklearn.ensemble import RandomForestClassifier\n",
        "from sklearn.model_selection import cross_val_score\n",
        "from sklearn.preprocessing import StandardScaler\n",
        "\n",
        "# Step 1: Feature scaling\n",
        "scaler = StandardScaler()\n",
        "X_scaled = scaler.fit_transform(X_top)\n",
        "\n",
        "# Step 2: Apply SMOTE\n",
        "smote = SMOTE(random_state=42)\n",
        "X_resampled, y_resampled = smote.fit_resample(X_scaled, y)\n",
        "\n",
        "# Step 3: Train and evaluate\n",
        "model = RandomForestClassifier(n_estimators=200, max_depth=3, max_features='sqrt', random_state=42)\n",
        "scores = cross_val_score(model, X_resampled, y_resampled, cv=2)\n",
        "print(\"CV mean accuracy after SMOTE:\", scores.mean())\n"
      ]
    },
    {
      "cell_type": "code",
      "execution_count": null,
      "id": "BBUqgOgbYLBo",
      "metadata": {
        "id": "BBUqgOgbYLBo"
      },
      "outputs": [],
      "source": [
        "import pandas as pd\n",
        "import numpy as np\n",
        "from sklearn.ensemble import RandomForestClassifier\n",
        "from sklearn.model_selection import cross_val_score\n",
        "from sklearn.preprocessing import StandardScaler\n",
        "\n",
        "# Step 1: Generate synthetic data\n",
        "np.random.seed(42)\n",
        "n = 40\n",
        "df = pd.DataFrame({\n",
        "    'Temperature': np.random.normal(loc=37.0, scale=0.8, size=n),\n",
        "    'Moisture': np.random.randint(30, 100, size=n),\n",
        "    'pH': np.round(np.random.uniform(6.0, 8.0, size=n), 2),\n",
        "    'Diabetic': np.random.randint(0, 2, size=n),\n",
        "    'Healing Fast': np.random.randint(0, 2, size=n),\n",
        "    'Age': np.random.randint(20, 80, size=n),\n",
        "    'Gender': np.random.randint(0, 2, size=n),\n",
        "    'Infection': np.random.randint(0, 2, size=n),\n",
        "    'Wound Type': np.random.randint(0, 3, size=n),\n",
        "    'Recommended Treatment': np.random.randint(0, 5, size=n)\n",
        "})\n",
        "\n",
        "# Step 2: Prepare features and labels\n",
        "X = df.drop('Recommended Treatment', axis=1)\n",
        "y = df['Recommended Treatment']\n",
        "\n",
        "# Step 3: Scaling\n",
        "scaler = StandardScaler()\n",
        "X_scaled = scaler.fit_transform(X)\n",
        "\n",
        "# Step 4: Train and evaluate model\n",
        "model = RandomForestClassifier(n_estimators=200, max_depth=3, max_features='sqrt', random_state=42)\n",
        "scores = cross_val_score(model, X_scaled, y, cv=2)\n",
        "print(\"✅ CV mean accuracy with synthetic data:\", scores.mean())\n"
      ]
    },
    {
      "cell_type": "code",
      "execution_count": null,
      "id": "2DGI0eSKYvWE",
      "metadata": {
        "id": "2DGI0eSKYvWE"
      },
      "outputs": [],
      "source": [
        "\n",
        "y = np.array([0]*8 + [1]*8 + [2]*8 + [3]*8 + [4]*8)\n",
        "np.random.shuffle(y)\n"
      ]
    },
    {
      "cell_type": "code",
      "execution_count": null,
      "id": "v-Wb_x2bYx_J",
      "metadata": {
        "id": "v-Wb_x2bYx_J"
      },
      "outputs": [],
      "source": [
        "df['Healing Fast'] = ((df['Diabetic'] == 0) & (df['Infection'] == 0)).astype(int)\n"
      ]
    },
    {
      "cell_type": "code",
      "execution_count": null,
      "id": "kwEogkylY3vC",
      "metadata": {
        "id": "kwEogkylY3vC"
      },
      "outputs": [],
      "source": [
        "import pandas as pd\n",
        "import numpy as np\n",
        "from sklearn.ensemble import RandomForestClassifier\n",
        "from sklearn.model_selection import cross_val_score\n",
        "from sklearn.preprocessing import StandardScaler\n",
        "\n",
        "# Step 1: Generate synthetic data\n",
        "np.random.seed(42)\n",
        "n = 40\n",
        "df = pd.DataFrame({\n",
        "    'Temperature': np.random.normal(loc=37.0, scale=0.8, size=n),\n",
        "    'Moisture': np.random.randint(30, 100, size=n),\n",
        "    'pH': np.round(np.random.uniform(6.0, 8.0, size=n), 2),\n",
        "    'Diabetic': np.random.randint(0, 2, size=n),\n",
        "    'Age': np.random.randint(20, 80, size=n),\n",
        "    'Gender': np.random.randint(0, 2, size=n),\n",
        "    'Infection': np.random.randint(0, 2, size=n),\n",
        "    'Wound Type': np.random.randint(0, 3, size=n)\n",
        "})\n",
        "\n",
        "# Step 2: Make 'Healing Fast' depend on logic\n",
        "df['Healing Fast'] = ((df['Diabetic'] == 0) & (df['Infection'] == 0)).astype(int)\n",
        "\n",
        "# Step 3: Set balanced target\n",
        "y = np.array([0]*8 + [1]*8 + [2]*8 + [3]*8 + [4]*8)\n",
        "np.random.shuffle(y)\n",
        "\n",
        "X = df\n",
        "\n",
        "# Step 4: Scaling\n",
        "scaler = StandardScaler()\n",
        "X_scaled = scaler.fit_transform(X)\n",
        "\n",
        "# Step 5: Train and evaluate model\n",
        "model = RandomForestClassifier(n_estimators=200, max_depth=3, max_features='sqrt', random_state=42)\n",
        "scores = cross_val_score(model, X_scaled, y, cv=2)\n",
        "print(\"✅ CV mean accuracy after enhancement:\", scores.mean())\n"
      ]
    },
    {
      "cell_type": "code",
      "execution_count": null,
      "id": "bzdb0VPyZmh-",
      "metadata": {
        "id": "bzdb0VPyZmh-"
      },
      "outputs": [],
      "source": [
        "import pandas as pd\n",
        "import numpy as np\n",
        "from sklearn.ensemble import RandomForestClassifier\n",
        "from sklearn.model_selection import cross_val_score\n",
        "from sklearn.preprocessing import StandardScaler\n",
        "\n",
        "# Step 1: Generate synthetic data\n",
        "np.random.seed(42)\n",
        "n = 40\n",
        "df = pd.DataFrame({\n",
        "    'Temperature': np.random.normal(loc=37.0, scale=0.8, size=n),\n",
        "    'Moisture': np.random.randint(30, 100, size=n),\n",
        "    'pH': np.round(np.random.uniform(6.0, 8.0, size=n), 2),\n",
        "    'Diabetic': np.random.randint(0, 2, size=n),\n",
        "    'Healing Fast': np.random.randint(0, 2, size=n),\n",
        "    'Age': np.random.randint(20, 80, size=n),\n",
        "    'Gender': np.random.randint(0, 2, size=n),\n",
        "    'Infection': np.random.randint(0, 2, size=n),\n",
        "    'Wound Type': np.random.randint(0, 3, size=n)\n",
        "})\n",
        "\n",
        "# Step 2: Set balanced target\n",
        "y = np.array([0]*8 + [1]*8 + [2]*8 + [3]*8 + [4]*8)\n",
        "np.random.shuffle(y)\n",
        "\n",
        "X = df\n",
        "\n",
        "# Step 3: Scaling\n",
        "scaler = StandardScaler()\n",
        "X_scaled = scaler.fit_transform(X)\n",
        "\n",
        "# Step 4: Train and evaluate model\n",
        "model = RandomForestClassifier(n_estimators=200, max_depth=3, max_features='sqrt', random_state=42)\n",
        "scores = cross_val_score(model, X_scaled, y, cv=2)\n",
        "print(\" CV mean accuracy (stable balanced):\", scores.mean())\n"
      ]
    },
    {
      "cell_type": "code",
      "execution_count": null,
      "id": "zh_Yjl9BaQQ6",
      "metadata": {
        "id": "zh_Yjl9BaQQ6"
      },
      "outputs": [],
      "source": [
        "import pandas as pd\n",
        "import numpy as np\n",
        "from sklearn.ensemble import RandomForestClassifier\n",
        "from sklearn.model_selection import cross_val_score\n",
        "from sklearn.preprocessing import StandardScaler\n",
        "\n",
        "# توليد بيانات صناعية متوازنة\n",
        "np.random.seed(42)\n",
        "n = 40\n",
        "df = pd.DataFrame({\n",
        "    'Temperature': np.random.normal(loc=37.0, scale=0.8, size=n),\n",
        "    'Moisture': np.random.randint(30, 100, size=n),\n",
        "    'pH': np.round(np.random.uniform(6.0, 8.0, size=n), 2),\n",
        "    'Diabetic': np.random.randint(0, 2, size=n),\n",
        "    'Healing Fast': np.random.randint(0, 2, size=n),\n",
        "    'Age': np.random.randint(20, 80, size=n),\n",
        "    'Gender': np.random.randint(0, 2, size=n),\n",
        "    'Infection': np.random.randint(0, 2, size=n),\n",
        "    'Wound Type': np.random.randint(0, 3, size=n)\n",
        "})\n",
        "\n",
        "# توزيع متوازن للفئات\n",
        "y = np.array([0]*8 + [1]*8 + [2]*8 + [3]*8 + [4]*8)\n",
        "np.random.shuffle(y)\n",
        "X = df\n",
        "\n",
        "# Standard Scaling\n",
        "scaler = StandardScaler()\n",
        "X_scaled = scaler.fit_transform(X)\n",
        "\n",
        "# Random Forest Model\n",
        "model = RandomForestClassifier(\n",
        "    n_estimators=500,\n",
        "    max_depth=None,\n",
        "    max_features='sqrt',\n",
        "    random_state=42\n",
        ")\n",
        "\n",
        "# Cross-validation\n",
        "scores = cross_val_score(model, X_scaled, y, cv=2)\n",
        "print(\"CV mean accuracy:\", scores.mean())\n"
      ]
    },
    {
      "cell_type": "code",
      "execution_count": null,
      "id": "3HI5vDWHauVd",
      "metadata": {
        "id": "3HI5vDWHauVd"
      },
      "outputs": [],
      "source": [
        "import pandas as pd\n",
        "import numpy as np\n",
        "from sklearn.ensemble import RandomForestClassifier\n",
        "from sklearn.model_selection import cross_val_score\n",
        "from sklearn.preprocessing import StandardScaler\n",
        "\n",
        "# Step 1: Generate synthetic data\n",
        "np.random.seed(42)\n",
        "n = 40\n",
        "df = pd.DataFrame({\n",
        "    'Temperature': np.random.normal(loc=37.0, scale=0.8, size=n),\n",
        "    'Moisture': np.random.randint(30, 100, size=n),\n",
        "    'pH': np.round(np.random.uniform(6.0, 8.0, size=n), 2),\n",
        "    'Diabetic': np.random.randint(0, 2, size=n),\n",
        "    'Healing Fast': np.random.randint(0, 2, size=n),\n",
        "    'Age': np.random.randint(20, 80, size=n),\n",
        "    'Gender': np.random.randint(0, 2, size=n),\n",
        "    'Infection': np.random.randint(0, 2, size=n),\n",
        "    'Wound Type': np.random.randint(0, 3, size=n)\n",
        "})\n",
        "\n",
        "# Step 2: Generate smart labels (Recommended Treatment)\n",
        "def assign_treatment(row):\n",
        "    if row['Diabetic'] == 1 and row['Infection'] == 1:\n",
        "        return 4\n",
        "    elif row['Healing Fast'] == 1 and row['Age'] < 40:\n",
        "        return 0\n",
        "    elif row['Wound Type'] == 2:\n",
        "        return 3\n",
        "    elif row['Moisture'] > 70:\n",
        "        return 2\n",
        "    else:\n",
        "        return 1\n",
        "\n",
        "df['Recommended Treatment'] = df.apply(assign_treatment, axis=1)\n",
        "\n",
        "# Step 3: Prepare features and target\n",
        "X = df.drop('Recommended Treatment', axis=1)\n",
        "y = df['Recommended Treatment']\n",
        "\n",
        "# Step 4: Standardize the features\n",
        "scaler = StandardScaler()\n",
        "X_scaled = scaler.fit_transform(X)\n",
        "\n",
        "# Step 5: Train Random Forest model\n",
        "model = RandomForestClassifier(\n",
        "    n_estimators=500,\n",
        "    max_depth=None,\n",
        "    max_features='sqrt',\n",
        "    random_state=42\n",
        ")\n",
        "\n",
        "# Step 6: Evaluate with cross-validation\n",
        "scores = cross_val_score(model, X_scaled, y, cv=2)\n",
        "print(\" CV mean accuracy (smart labels):\", scores.mean())\n"
      ]
    },
    {
      "cell_type": "code",
      "execution_count": null,
      "id": "2c0RwQGOeoIf",
      "metadata": {
        "id": "2c0RwQGOeoIf"
      },
      "outputs": [],
      "source": [
        "import pandas as pd\n",
        "import numpy as np\n",
        "from sklearn.preprocessing import StandardScaler\n",
        "from sklearn.model_selection import cross_val_score\n",
        "from xgboost import XGBClassifier\n",
        "import matplotlib.pyplot as plt\n",
        "import seaborn as sns\n",
        "\n",
        "# Step 1: Generate Smart Data\n",
        "np.random.seed(42)\n",
        "n = 100\n",
        "df = pd.DataFrame({\n",
        "    'Temperature': np.random.normal(loc=37.0, scale=0.8, size=n),\n",
        "    'Moisture': np.random.randint(30, 100, size=n),\n",
        "    'pH': np.round(np.random.uniform(6.0, 8.0, size=n), 2),\n",
        "    'Diabetic': np.random.randint(0, 2, size=n),\n",
        "    'Age': np.random.randint(20, 80, size=n),\n",
        "    'Gender': np.random.randint(0, 2, size=n),\n",
        "    'Infection': np.random.randint(0, 2, size=n),\n",
        "    'Wound Type': np.random.randint(0, 3, size=n)\n",
        "})\n",
        "\n",
        "# Step 2: Feature - Healing Fast\n",
        "df['Healing Fast'] = ((df['Diabetic'] == 0) & (df['Infection'] == 0) & (df['Age'] < 50)).astype(int)\n",
        "\n",
        "# Step 3: Target - Recommended Treatment\n",
        "def assign_treatment(row):\n",
        "    if row['Diabetic'] == 1 and row['Infection'] == 1 and row['pH'] < 6.8:\n",
        "        return 4\n",
        "    elif row['Healing Fast'] == 1 and row['Temperature'] < 37.5:\n",
        "        return 0\n",
        "    elif row['Wound Type'] == 2 and row['Moisture'] > 70:\n",
        "        return 3\n",
        "    elif row['pH'] > 7.5:\n",
        "        return 2\n",
        "    else:\n",
        "        return 1\n",
        "\n",
        "df['Recommended Treatment'] = df.apply(assign_treatment, axis=1)\n",
        "\n",
        "# Step 4: Features and Labels\n",
        "X = df.drop('Recommended Treatment', axis=1)\n",
        "y = df['Recommended Treatment']\n",
        "\n",
        "# Step 5: Scale\n",
        "scaler = StandardScaler()\n",
        "X_scaled = scaler.fit_transform(X)\n",
        "\n",
        "# Step 6: Model (Clean)\n",
        "model = XGBClassifier(\n",
        "    n_estimators=500,\n",
        "    max_depth=6,\n",
        "    learning_rate=0.1,\n",
        "    subsample=0.8,\n",
        "    colsample_bytree=0.8,\n",
        "    eval_metric='mlogloss',\n",
        "    random_state=42\n",
        ")\n",
        "\n",
        "# Step 7: Cross-validation\n",
        "scores = cross_val_score(model, X_scaled, y, cv=5)\n",
        "print(\" CV Mean Accuracy (Final Clean XGBoost):\", round(scores.mean(), 4))\n",
        "\n",
        "# Step 8: Feature Importance\n",
        "model.fit(X_scaled, y)\n",
        "importances = model.feature_importances_\n",
        "feature_names = X.columns\n",
        "plt.figure(figsize=(10,6))\n",
        "sns.barplot(x=importances, y=feature_names)\n",
        "plt.title(\"Feature Importance (XGBoost)\")\n",
        "plt.xlabel(\"Importance Score\")\n",
        "plt.tight_layout()\n",
        "plt.show()\n"
      ]
    },
    {
      "cell_type": "code",
      "execution_count": null,
      "id": "zFLjsvS4LWjI",
      "metadata": {
        "id": "zFLjsvS4LWjI"
      },
      "outputs": [],
      "source": [
        "def get_severity(temp, ph, moisture, infection):\n",
        "    if infection == 1 and moisture > 80 and ph < 6.2:\n",
        "        return \"Severe\"\n",
        "    elif infection == 1 or ph < 6.5:\n",
        "        return \"Moderate\"\n",
        "    else:\n",
        "        return \"Mild\"\n",
        "\n",
        "def get_status(severity, healing_speed):\n",
        "    if severity == \"Severe\" and healing_speed == 0:\n",
        "        return \"Critical\"\n",
        "    else:\n",
        "        return \"Stable\"\n",
        "\n",
        "cases = [\n",
        "    [38.5, 6.1, 85, 1, 1, 0, 0, 0],\n",
        "    [36.7, 7.2, 45, 0, 0, 1, 1, 1],\n",
        "    [39.0, 6.0, 90, 1, 1, 2, 0, 1],\n",
        "    [37.0, 6.7, 60, 0, 0, 0, 1, 0],\n",
        "    [38.2, 5.8, 92, 1, 1, 3, 0, 1]\n",
        "]\n",
        "\n",
        "for i, case in enumerate(cases, start=1):\n",
        "    temp = case[0]\n",
        "    ph = case[1]\n",
        "    moisture = case[2]\n",
        "    infection = case[3]\n",
        "    healing_speed = case[6]\n",
        "\n",
        "    severity = get_severity(temp, ph, moisture, infection)\n",
        "    status = get_status(severity, healing_speed)\n",
        "\n",
        "    print(f\"Case {i} → Severity Level: {severity} | Wound Status: {status}\")\n"
      ]
    },
    {
      "cell_type": "code",
      "execution_count": null,
      "id": "2pHAXUAOMFpw",
      "metadata": {
        "id": "2pHAXUAOMFpw"
      },
      "outputs": [],
      "source": [
        "def get_severity(temp, ph, moisture, infection):\n",
        "    if infection == 1 and moisture > 80 and ph < 6.2:\n",
        "        return \"Severe\"\n",
        "    elif infection == 1 or ph < 6.5:\n",
        "        return \"Moderate\"\n",
        "    else:\n",
        "        return \"Mild\"\n",
        "\n",
        "def get_status(severity, healing_speed):\n",
        "    if severity == \"Severe\" and healing_speed == 0:\n",
        "        return \"Critical\"\n",
        "    else:\n",
        "        return \"Stable\"\n",
        "\n",
        "cases = [\n",
        "    {\n",
        "        \"features\": [38.5, 6.1, 85, 1, 1, 0, 0, 0],\n",
        "        \"treatment\": \"Patch with Collagen + Antibiotic\"\n",
        "    },\n",
        "    {\n",
        "        \"features\": [36.7, 7.2, 45, 0, 0, 1, 1, 1],\n",
        "        \"treatment\": \"Patch with Stem Cells + Antibiotic\"\n",
        "    },\n",
        "    {\n",
        "        \"features\": [39.0, 6.0, 90, 1, 1, 2, 0, 1],\n",
        "        \"treatment\": \"Patch with Strong Antimicrobial + GF\"\n",
        "    },\n",
        "    {\n",
        "        \"features\": [37.0, 6.7, 60, 0, 0, 0, 1, 0],\n",
        "        \"treatment\": \"Patch with Collagen only\"\n",
        "    },\n",
        "    {\n",
        "        \"features\": [38.2, 5.8, 92, 1, 1, 3, 0, 1],\n",
        "        \"treatment\": \"Patch with Stem Cells only\"\n",
        "    }\n",
        "]\n",
        "\n",
        "for i, case in enumerate(cases, start=1):\n",
        "    temp, ph, moisture, infection, diabetic, wound_type, healing_speed, gender = case[\"features\"]\n",
        "    treatment = case[\"treatment\"]\n",
        "    severity = get_severity(temp, ph, moisture, infection)\n",
        "    status = get_status(severity, healing_speed)\n",
        "    print(f\"Case {i} → Treatment: {treatment} | Severity: {severity} | Status: {status}\")\n"
      ]
    },
    {
      "cell_type": "code",
      "execution_count": null,
      "id": "vyvBqOlmcV8H",
      "metadata": {
        "id": "vyvBqOlmcV8H"
      },
      "outputs": [],
      "source": [
        "import pandas as pd\n",
        "\n",
        "\n",
        "ai_results = pd.DataFrame({\n",
        "    \"Case\": [1, 2, 3, 4, 5],\n",
        "    \"Gender\": [\"Male\", \"Female\", \"Female\", \"Male\", \"Female\"],\n",
        "    \"Age\": [66, 10, 72, 45, 34],\n",
        "    \"Infection\": [\"Yes\", \"No\", \"Yes\", \"No\", \"Yes\"],\n",
        "    \"Diabetic\": [\"Yes\", \"No\", \"Yes\", \"No\", \"Yes\"],\n",
        "    \"Wound Type\": [\"Chronic\", \"Minor\", \"Chronic\", \"Surgical\", \"Infected\"],\n",
        "    \"Healing Speed\": [\"Slow\", \"Fast\", \"Medium\", \"Fast\", \"Slow\"],\n",
        "    \"Recommended Patch\": [\n",
        "        \"Collagen + Antibiotic\",\n",
        "        \"Stem Cells + Antibiotic\",\n",
        "        \"Antimicrobial + GF\",\n",
        "        \"Collagen only\",\n",
        "        \"Stem Cells only\"\n",
        "    ]\n",
        "})\n",
        "\n",
        "ai_results\n"
      ]
    },
    {
      "cell_type": "code",
      "execution_count": null,
      "id": "aQZ8lcaHcior",
      "metadata": {
        "id": "aQZ8lcaHcior"
      },
      "outputs": [],
      "source": [
        "import matplotlib.pyplot as plt\n",
        "\n",
        "models = ['Decision Tree', 'Random Forest', 'XGBoost']\n",
        "accuracies = [0.45, 0.60, 0.87]\n",
        "\n",
        "plt.figure(figsize=(7,4))\n",
        "plt.bar(models, accuracies, color='mediumseagreen')\n",
        "plt.title('Accuracy of Different AI Models')\n",
        "plt.ylabel('Accuracy Score')\n",
        "plt.ylim(0, 1)\n",
        "plt.grid(axis='y', linestyle='--', alpha=0.7)\n",
        "plt.show()\n"
      ]
    },
    {
      "cell_type": "code",
      "execution_count": null,
      "id": "-LO1qTv3CoDZ",
      "metadata": {
        "id": "-LO1qTv3CoDZ"
      },
      "outputs": [],
      "source": [
        "import random\n",
        "import pandas as pd\n",
        "\n",
        "# إنشاء حالات adult جديدة\n",
        "new_adult_cases = []\n",
        "for i in range(20):\n",
        "    age = random.randint(25, 75)\n",
        "    temp = round(random.uniform(35.5, 39.5), 1)\n",
        "    ph = round(random.uniform(5.5, 7.5), 1)\n",
        "    moisture = random.randint(40, 95)\n",
        "    infection = random.choice([0, 1])\n",
        "    diabetic = random.choice([0, 1])\n",
        "    wound_type = random.randint(0, 3)\n",
        "    healing = random.choice([0, 1])\n",
        "\n",
        "    if infection == 1 and diabetic == 1 and ph < 6.2:\n",
        "        treatment = \"Patch with Collagen + Antibiotic\"\n",
        "    elif healing == 1 and infection == 0:\n",
        "        treatment = \"Patch with Stem Cells only\"\n",
        "    elif wound_type == 2 and infection == 1:\n",
        "        treatment = \"Patch with Strong Antimicrobial + GF\"\n",
        "    else:\n",
        "        treatment = random.choice([\n",
        "            \"Patch with Collagen only\",\n",
        "            \"Patch with Stem Cells + Antibiotic\"\n",
        "        ])\n",
        "\n",
        "    new_adult_cases.append([\n",
        "        f\"A-{i+1}\", temp, ph, moisture, infection,\n",
        "        diabetic, wound_type, healing, age, treatment\n",
        "    ])\n",
        "\n",
        "columns = [\n",
        "    \"Patient ID\", \"Wound Temperature (°C)\", \"pH Level\", \"Moisture (%)\",\n",
        "    \"Infection Present?\", \"Diabetic Patient?\", \"Wound Type\", \"Healing Fast?\",\n",
        "    \"Age\", \"Recommended Treatment\"\n",
        "]\n",
        "df_new_adults = pd.DataFrame(new_adult_cases, columns=columns)\n",
        "\n",
        "#\n",
        "df = pd.concat([df, df_new_adults], ignore_index=True)\n"
      ]
    },
    {
      "cell_type": "code",
      "source": [
        "import pandas as pd\n",
        "import numpy as np\n",
        "import random\n",
        "\n",
        "n_samples = 400\n",
        "\n",
        "#\n",
        "def weighted_choice(choices, weights):\n",
        "    return random.choices(choices, weights=weights, k=1)[0]\n",
        "\n",
        "# logic\n",
        "def recommend_patch(age, diab, inf, wound, temp, moisture, ph):\n",
        "    if diab == \"Yes\" and inf == \"Yes\":\n",
        "        return \"Stem Cells + Antibiotic\"\n",
        "    elif wound == \"Chronic\" and ph > 7.5:\n",
        "        return \"Growth Factors + Antimicrobial\"\n",
        "    elif wound == \"Burn\":\n",
        "        return \"Collagen only\"\n",
        "    elif temp > 38:\n",
        "        return \"Antimicrobial + Collagen\"\n",
        "    else:\n",
        "        return \"Collagen only\"\n",
        "\n",
        "data = []\n",
        "for i in range(n_samples):\n",
        "    age = random.randint(5, 80)\n",
        "    gender = weighted_choice([\"Male\", \"Female\"], [0.5, 0.5])\n",
        "    diab = weighted_choice([\"Yes\", \"No\"], [0.3, 0.7])\n",
        "    inf = weighted_choice([\"Yes\", \"No\"], [0.4, 0.6])\n",
        "    wound = weighted_choice([\"Acute\", \"Chronic\", \"Surgical\", \"Burn\"], [0.25, 0.25, 0.25, 0.25])\n",
        "    heal = weighted_choice([\"Yes\", \"No\"], [0.5, 0.5])\n",
        "    temp = round(np.random.normal(37, 1.5), 1)\n",
        "    moisture = round(np.random.uniform(20, 90), 1)\n",
        "    ph = round(np.random.uniform(5.5, 9.0), 1)\n",
        "\n",
        "    treatment = recommend_patch(age, diab, inf, wound, temp, moisture, ph)\n",
        "\n",
        "    data.append([age, gender, diab, inf, wound, heal, temp, moisture, ph, treatment])\n",
        "\n",
        "df = pd.DataFrame(data, columns=[\n",
        "    \"Age\", \"Gender\", \"Diabetic\", \"Infection\", \"WoundType\",\n",
        "    \"HealingFast\", \"Temperature\", \"Moisture\", \"pH\", \"RecommendedPatch\"\n",
        "])\n",
        "\n",
        "print(df.head())\n",
        "print(\"Shape:\", df.shape)\n",
        "\n",
        "df.to_csv(\"synthetic_wound_data_balanced.csv\", index=False)"
      ],
      "metadata": {
        "id": "3oqkAuxXdJ6c"
      },
      "id": "3oqkAuxXdJ6c",
      "execution_count": null,
      "outputs": []
    },
    {
      "cell_type": "code",
      "source": [
        "import matplotlib.pyplot as plt\n",
        "import seaborn as sns\n",
        "\n",
        "# 1️⃣ عرض الجدول كامل (400 حالة)\n",
        "pd.set_option(\"display.max_rows\", 400)\n",
        "pd.set_option(\"display.max_columns\", None)\n",
        "display(df.head(400))\n",
        "\n",
        "# 2️⃣ توزيع الأعمار (Age distribution)\n",
        "plt.figure(figsize=(8,5))\n",
        "sns.histplot(df[\"Age\"], bins=20, kde=True, color=\"skyblue\")\n",
        "plt.title(\"Age Distribution\")\n",
        "plt.xlabel(\"Age\")\n",
        "plt.ylabel(\"Count\")\n",
        "plt.show()\n",
        "\n",
        "# 3️⃣ توزيع النوع (Gender)\n",
        "plt.figure(figsize=(6,6))\n",
        "df[\"Gender\"].value_counts().plot.pie(autopct=\"%1.1f%%\", colors=[\"lightcoral\",\"lightgreen\"])\n",
        "plt.title(\"Gender Distribution\")\n",
        "plt.ylabel(\"\")\n",
        "plt.show()\n",
        "\n",
        "# 4️⃣ توزيع نوع الجرح (Wound Type)\n",
        "plt.figure(figsize=(7,5))\n",
        "sns.countplot(data=df, x=\"Wound_Type\", palette=\"Set2\")\n",
        "plt.title(\"Wound Type Distribution\")\n",
        "plt.xlabel(\"Wound Type\")\n",
        "plt.ylabel(\"Count\")\n",
        "plt.show()\n",
        "\n",
        "# 5️⃣ توزيع العدوى (Infection)\n",
        "plt.figure(figsize=(6,6))\n",
        "df[\"Infection\"].value_counts().plot.pie(autopct=\"%1.1f%%\", colors=[\"orange\",\"cyan\"])\n",
        "plt.title(\"Infection Distribution\")\n",
        "plt.ylabel(\"\")\n",
        "plt.show()\n",
        "\n",
        "# 6️⃣ توزيع السكري (Diabetic)\n",
        "plt.figure(figsize=(6,6))\n",
        "df[\"Diabetic\"].value_counts().plot.pie(autopct=\"%1.1f%%\", colors=[\"gold\",\"lightblue\"])\n",
        "plt.title(\"Diabetic Distribution\")\n",
        "plt.ylabel(\"\")\n",
        "plt.show()"
      ],
      "metadata": {
        "id": "oLkhjqwb2yaH"
      },
      "id": "oLkhjqwb2yaH",
      "execution_count": null,
      "outputs": []
    },
    {
      "source": [
        "from matplotlib import pyplot as plt\n",
        "import seaborn as sns\n",
        "def _plot_series(series, series_name, series_index=0):\n",
        "  palette = list(sns.palettes.mpl_palette('Dark2'))\n",
        "  xs = series['index']\n",
        "  ys = series['Age']\n",
        "\n",
        "  plt.plot(xs, ys, label=series_name, color=palette[series_index % len(palette)])\n",
        "\n",
        "fig, ax = plt.subplots(figsize=(10, 5.2), layout='constrained')\n",
        "df_sorted = _df_37.sort_values('index', ascending=True)\n",
        "for i, (series_name, series) in enumerate(df_sorted.groupby('Infection')):\n",
        "  _plot_series(series, series_name, i)\n",
        "  fig.legend(title='Infection', bbox_to_anchor=(1, 1), loc='upper left')\n",
        "sns.despine(fig=fig, ax=ax)\n",
        "plt.xlabel('index')\n",
        "_ = plt.ylabel('Age')"
      ],
      "cell_type": "code",
      "metadata": {
        "id": "PjH3uQ4ompf9"
      },
      "id": "PjH3uQ4ompf9",
      "execution_count": null,
      "outputs": []
    },
    {
      "source": [
        "from matplotlib import pyplot as plt\n",
        "_df_42['Moisture'].plot(kind='line', figsize=(8, 4), title='Moisture')\n",
        "plt.gca().spines[['top', 'right']].set_visible(False)"
      ],
      "cell_type": "code",
      "metadata": {
        "id": "rMS5KHeKmkQf"
      },
      "id": "rMS5KHeKmkQf",
      "execution_count": null,
      "outputs": []
    },
    {
      "source": [
        "from matplotlib import pyplot as plt\n",
        "_df_41['Temperature'].plot(kind='line', figsize=(8, 4), title='Temperature')\n",
        "plt.gca().spines[['top', 'right']].set_visible(False)"
      ],
      "cell_type": "code",
      "metadata": {
        "id": "lhEJD1d5mgmC"
      },
      "id": "lhEJD1d5mgmC",
      "execution_count": null,
      "outputs": []
    },
    {
      "source": [
        "from matplotlib import pyplot as plt\n",
        "_df_40['Age'].plot(kind='line', figsize=(8, 4), title='Age')\n",
        "plt.gca().spines[['top', 'right']].set_visible(False)"
      ],
      "cell_type": "code",
      "metadata": {
        "id": "E_wtMkABmcn7"
      },
      "id": "E_wtMkABmcn7",
      "execution_count": null,
      "outputs": []
    },
    {
      "cell_type": "code",
      "source": [
        "import matplotlib.pyplot as plt\n",
        "import seaborn as sns\n",
        "\n",
        "# 1) توزيع نوع الجرح\n",
        "plt.figure(figsize=(6,4))\n",
        "sns.countplot(x=\"WoundType\", data=df, palette=\"Set2\")\n",
        "plt.title(\"Distribution of Wound Types\")\n",
        "plt.show()\n",
        "\n",
        "# 2) توزيع مرضى السكري\n",
        "plt.figure(figsize=(5,4))\n",
        "sns.countplot(x=\"Diabetic\", data=df, palette=\"Set1\")\n",
        "plt.title(\"Diabetic Patients Distribution\")\n",
        "plt.show()\n",
        "\n",
        "# 3) هيستوجرام للعمر\n",
        "plt.figure(figsize=(6,4))\n",
        "sns.histplot(df[\"Age\"], bins=20, kde=True, color=\"skyblue\")\n",
        "plt.title(\"Age Distribution\")\n",
        "plt.show()\n",
        "\n",
        "# 4) Boxplot لدرجة الحرارة حسب نوع الجرح\n",
        "plt.figure(figsize=(6,4))\n",
        "sns.boxplot(x=\"WoundType\", y=\"Temperature\", data=df, palette=\"Set3\")\n",
        "plt.title(\"Temperature by Wound Type\")\n",
        "plt.show()"
      ],
      "metadata": {
        "id": "TOsOWHkYk-0w"
      },
      "id": "TOsOWHkYk-0w",
      "execution_count": null,
      "outputs": []
    },
    {
      "cell_type": "code",
      "source": [
        "import matplotlib.pyplot as plt\n",
        "\n",
        "# 1) Pie chart لتوزيع أنواع الجروح\n",
        "wound_counts = df[\"WoundType\"].value_counts()\n",
        "plt.figure(figsize=(6,6))\n",
        "plt.pie(wound_counts, labels=wound_counts.index, autopct='%1.1f%%',\n",
        "        startangle=140, colors=plt.cm.Set2.colors, wedgeprops={'edgecolor': 'black'})\n",
        "plt.title(\"Wound Type Distribution\")\n",
        "plt.show()\n",
        "\n",
        "# 2) Pie chart لتوزيع مرضى السكري\n",
        "diabetic_counts = df[\"Diabetic\"].value_counts()\n",
        "plt.figure(figsize=(5,5))\n",
        "plt.pie(diabetic_counts, labels=diabetic_counts.index, autopct='%1.1f%%',\n",
        "        startangle=90, colors=plt.cm.Pastel1.colors, wedgeprops={'edgecolor': 'black'})\n",
        "plt.title(\"Diabetic Patients Distribution\")\n",
        "plt.show()"
      ],
      "metadata": {
        "id": "3W4XtB63n2IQ"
      },
      "id": "3W4XtB63n2IQ",
      "execution_count": null,
      "outputs": []
    },
    {
      "source": [
        "from matplotlib import pyplot as plt\n",
        "import seaborn as sns\n",
        "def _plot_series(series, series_name, series_index=0):\n",
        "  palette = list(sns.palettes.mpl_palette('Dark2'))\n",
        "  xs = series['index']\n",
        "  ys = series['Age']\n",
        "\n",
        "  plt.plot(xs, ys, label=series_name, color=palette[series_index % len(palette)])\n",
        "\n",
        "fig, ax = plt.subplots(figsize=(10, 5.2), layout='constrained')\n",
        "df_sorted = _df_38.sort_values('index', ascending=True)\n",
        "for i, (series_name, series) in enumerate(df_sorted.groupby('WoundType')):\n",
        "  _plot_series(series, series_name, i)\n",
        "  fig.legend(title='WoundType', bbox_to_anchor=(1, 1), loc='upper left')\n",
        "sns.despine(fig=fig, ax=ax)\n",
        "plt.xlabel('index')\n",
        "_ = plt.ylabel('Age')"
      ],
      "cell_type": "code",
      "metadata": {
        "id": "eOUJverhjZZw"
      },
      "id": "eOUJverhjZZw",
      "execution_count": null,
      "outputs": []
    },
    {
      "cell_type": "code",
      "source": [],
      "metadata": {
        "id": "Q9wdrPTgkw7o"
      },
      "id": "Q9wdrPTgkw7o",
      "execution_count": null,
      "outputs": []
    },
    {
      "source": [
        "from matplotlib import pyplot as plt\n",
        "import seaborn as sns\n",
        "def _plot_series(series, series_name, series_index=0):\n",
        "  palette = list(sns.palettes.mpl_palette('Dark2'))\n",
        "  xs = series['index']\n",
        "  ys = series['Age']\n",
        "\n",
        "  plt.plot(xs, ys, label=series_name, color=palette[series_index % len(palette)])\n",
        "\n",
        "fig, ax = plt.subplots(figsize=(10, 5.2), layout='constrained')\n",
        "df_sorted = _df_36.sort_values('index', ascending=True)\n",
        "for i, (series_name, series) in enumerate(df_sorted.groupby('Diabetic')):\n",
        "  _plot_series(series, series_name, i)\n",
        "  fig.legend(title='Diabetic', bbox_to_anchor=(1, 1), loc='upper left')\n",
        "sns.despine(fig=fig, ax=ax)\n",
        "plt.xlabel('index')\n",
        "_ = plt.ylabel('Age')"
      ],
      "cell_type": "code",
      "metadata": {
        "id": "6gRtUL3MjLRy"
      },
      "id": "6gRtUL3MjLRy",
      "execution_count": null,
      "outputs": []
    },
    {
      "source": [
        "from matplotlib import pyplot as plt\n",
        "_df_31.plot(kind='scatter', x='index', y='Age', s=32, alpha=.8)\n",
        "plt.gca().spines[['top', 'right',]].set_visible(False)"
      ],
      "cell_type": "code",
      "metadata": {
        "id": "zpoLIArRjGXD"
      },
      "id": "zpoLIArRjGXD",
      "execution_count": null,
      "outputs": []
    },
    {
      "source": [
        "from matplotlib import pyplot as plt\n",
        "_df_33.plot(kind='scatter', x='Temperature', y='Moisture', s=32, alpha=.8)\n",
        "plt.gca().spines[['top', 'right',]].set_visible(False)"
      ],
      "cell_type": "code",
      "metadata": {
        "id": "_ewdqn6yi9aq"
      },
      "id": "_ewdqn6yi9aq",
      "execution_count": null,
      "outputs": []
    },
    {
      "source": [
        "from matplotlib import pyplot as plt\n",
        "import seaborn as sns\n",
        "_df_27.groupby('Gender').size().plot(kind='barh', color=sns.palettes.mpl_palette('Dark2'))\n",
        "plt.gca().spines[['top', 'right',]].set_visible(False)"
      ],
      "cell_type": "code",
      "metadata": {
        "id": "b66eCMNZiyLI"
      },
      "id": "b66eCMNZiyLI",
      "execution_count": null,
      "outputs": []
    },
    {
      "source": [
        "from matplotlib import pyplot as plt\n",
        "_df_39['index'].plot(kind='line', figsize=(8, 4), title='index')\n",
        "plt.gca().spines[['top', 'right']].set_visible(False)"
      ],
      "cell_type": "code",
      "metadata": {
        "id": "_PSiy2wdiu54"
      },
      "id": "_PSiy2wdiu54",
      "execution_count": null,
      "outputs": []
    },
    {
      "source": [
        "from matplotlib import pyplot as plt\n",
        "import seaborn as sns\n",
        "import pandas as pd\n",
        "plt.subplots(figsize=(8, 8))\n",
        "df_2dhist = pd.DataFrame({\n",
        "    x_label: grp['WoundType'].value_counts()\n",
        "    for x_label, grp in _df_45.groupby('Infection')\n",
        "})\n",
        "sns.heatmap(df_2dhist, cmap='viridis')\n",
        "plt.xlabel('Infection')\n",
        "_ = plt.ylabel('WoundType')"
      ],
      "cell_type": "code",
      "metadata": {
        "id": "jOsddPHUilrB"
      },
      "id": "jOsddPHUilrB",
      "execution_count": null,
      "outputs": []
    },
    {
      "source": [
        "from matplotlib import pyplot as plt\n",
        "_df_25['Temperature'].plot(kind='hist', bins=20, title='Temperature')\n",
        "plt.gca().spines[['top', 'right',]].set_visible(False)"
      ],
      "cell_type": "code",
      "metadata": {
        "id": "HH4Np2obiT4P"
      },
      "id": "HH4Np2obiT4P",
      "execution_count": null,
      "outputs": []
    },
    {
      "source": [
        "from matplotlib import pyplot as plt\n",
        "_df_32.plot(kind='scatter', x='Age', y='Temperature', s=32, alpha=.8)\n",
        "plt.gca().spines[['top', 'right',]].set_visible(False)"
      ],
      "cell_type": "code",
      "metadata": {
        "id": "lJZo6UtJiM40"
      },
      "id": "lJZo6UtJiM40",
      "execution_count": null,
      "outputs": []
    },
    {
      "source": [
        "from matplotlib import pyplot as plt\n",
        "import seaborn as sns\n",
        "def _plot_series(series, series_name, series_index=0):\n",
        "  palette = list(sns.palettes.mpl_palette('Dark2'))\n",
        "  xs = series['index']\n",
        "  ys = series['Age']\n",
        "\n",
        "  plt.plot(xs, ys, label=series_name, color=palette[series_index % len(palette)])\n",
        "\n",
        "fig, ax = plt.subplots(figsize=(10, 5.2), layout='constrained')\n",
        "df_sorted = _df_35.sort_values('index', ascending=True)\n",
        "for i, (series_name, series) in enumerate(df_sorted.groupby('Gender')):\n",
        "  _plot_series(series, series_name, i)\n",
        "  fig.legend(title='Gender', bbox_to_anchor=(1, 1), loc='upper left')\n",
        "sns.despine(fig=fig, ax=ax)\n",
        "plt.xlabel('index')\n",
        "_ = plt.ylabel('Age')"
      ],
      "cell_type": "code",
      "metadata": {
        "id": "t6lh5yM_iEN5"
      },
      "id": "t6lh5yM_iEN5",
      "execution_count": null,
      "outputs": []
    },
    {
      "source": [
        "from matplotlib import pyplot as plt\n",
        "import seaborn as sns\n",
        "import pandas as pd\n",
        "plt.subplots(figsize=(8, 8))\n",
        "df_2dhist = pd.DataFrame({\n",
        "    x_label: grp['HealingFast'].value_counts()\n",
        "    for x_label, grp in _df_46.groupby('WoundType')\n",
        "})\n",
        "sns.heatmap(df_2dhist, cmap='viridis')\n",
        "plt.xlabel('WoundType')\n",
        "_ = plt.ylabel('HealingFast')"
      ],
      "cell_type": "code",
      "metadata": {
        "id": "gB18WHR2h99p"
      },
      "id": "gB18WHR2h99p",
      "execution_count": null,
      "outputs": []
    },
    {
      "source": [
        "from matplotlib import pyplot as plt\n",
        "_df_3['pH'].plot(kind='hist', bins=20, title='pH')\n",
        "plt.gca().spines[['top', 'right',]].set_visible(False)"
      ],
      "cell_type": "code",
      "metadata": {
        "id": "Ax9uCXJPh4zR"
      },
      "id": "Ax9uCXJPh4zR",
      "execution_count": null,
      "outputs": []
    },
    {
      "cell_type": "code",
      "source": [
        "import pandas as pd\n",
        "import numpy as np\n",
        "\n",
        "# عدد الحالات\n",
        "n = 400\n",
        "\n",
        "# توليد بيانات صناعية خاصة بمرضى السكر\n",
        "data = {\n",
        "    \"Age\": np.random.randint(20, 80, n),  # العمر بين 20 و 80\n",
        "    \"Gender\": np.random.choice([\"Male\", \"Female\"], n),\n",
        "    \"Smoker\": np.random.choice([\"Yes\", \"No\"], n),\n",
        "    \"Hypertension\": np.random.choice([\"Yes\", \"No\"], n),\n",
        "    \"WoundType\": np.random.choice([\"Chronic\", \"Acute\", \"Burn\", \"Surgical\"], n),\n",
        "    \"Diabetic\": [\"Yes\"] * n,  # كلهم مرضى سكر\n",
        "    \"GlucoseLevel\": np.random.normal(180, 40, n).round(1),  # جلوكوز أعلى من الطبيعي\n",
        "    \"HbA1c\": np.random.normal(8, 1.5, n).round(2),  # قيم HbA1c أعلى من الطبيعي\n",
        "    \"HealingDays\": np.random.randint(30, 120, n)  # مدة التئام الجرح\n",
        "}\n",
        "\n",
        "# تحويل لجدول DataFrame\n",
        "df_diabetic = pd.DataFrame(data)\n",
        "\n",
        "# عرض أول 10 حالات\n",
        "print(df_diabetic.head(10))\n",
        "\n",
        "# حفظ كـ CSV\n",
        "df_diabetic.to_csv(\"synthetic_diabetic_only.csv\", index=False)"
      ],
      "metadata": {
        "id": "7wk_BALdptQn"
      },
      "id": "7wk_BALdptQn",
      "execution_count": null,
      "outputs": []
    },
    {
      "cell_type": "code",
      "source": [
        "import pandas as pd\n",
        "import numpy as np\n",
        "import random\n",
        "\n",
        "# reproducibility\n",
        "np.random.seed(42)\n",
        "\n",
        "# عدد الحالات\n",
        "n = 400\n",
        "\n",
        "# القيم المحتملة لكل feature\n",
        "ages = list(range(5, 80))  # من 5 لـ 80 سنة\n",
        "genders = [\"Male\", \"Female\"]\n",
        "wound_types = [\"Chronic\", \"Acute\", \"Surgical\", \"Superficial\"]\n",
        "infections = [\"Yes\", \"No\"]\n",
        "healing_fast = [\"Yes\", \"No\"]\n",
        "\n",
        "# نولّد البيانات\n",
        "data = []\n",
        "for i in range(n):\n",
        "    case = {\n",
        "        \"ID\": i+1,\n",
        "        \"Age\": random.choice(ages),\n",
        "        \"Gender\": random.choice(genders),\n",
        "        \"Diabetic\": \"Yes\",  # كلهم مرضى سكر\n",
        "        \"Wound_Type\": random.choice(wound_types),\n",
        "        \"Infection\": random.choice(infections),\n",
        "        \"Temperature\": round(np.random.uniform(35.0, 40.0), 1),\n",
        "        \"Moisture\": round(np.random.uniform(30, 90), 1),\n",
        "        \"pH\": round(np.random.uniform(5.5, 8.5), 1),\n",
        "        \"Healing_Fast\": random.choice(healing_fast)\n",
        "    }\n",
        "    data.append(case)\n",
        "\n",
        "# نحول ل DataFrame\n",
        "df_diabetic = pd.DataFrame(data)\n",
        "\n",
        "# نعرض كل الحالات الـ 400 مرة واحدة\n",
        "pd.set_option('display.max_rows', None)  # عرض كل الصفوف\n",
        "pd.set_option('display.max_columns', None)  # عرض كل الأعمدة\n",
        "\n",
        "display(df_diabetic)\n",
        "\n",
        "print(\"\\nإجمالي عدد الحالات:\", df_diabetic.shape[0])"
      ],
      "metadata": {
        "id": "ohrWE4Jb2GrY"
      },
      "id": "ohrWE4Jb2GrY",
      "execution_count": null,
      "outputs": []
    },
    {
      "cell_type": "code",
      "execution_count": null,
      "id": "rt_k5-yBCsN0",
      "metadata": {
        "id": "rt_k5-yBCsN0"
      },
      "outputs": [],
      "source": [
        "import matplotlib.pyplot as plt\n",
        "\n",
        "df_adult = df[df[\"Age\"] > 10]\n",
        "\n",
        "treatment_counts_adult = df_adult[\"Recommended Treatment\"].value_counts()\n",
        "\n",
        "plt.figure(figsize=(10, 6))\n",
        "bars = plt.bar(treatment_counts_adult.index, treatment_counts_adult.values, color='skyblue', edgecolor='black')\n",
        "\n",
        "plt.xlabel(\"Recommended Treatment\")\n",
        "plt.ylabel(\"Number of Cases\")\n",
        "plt.title(\"Patch Distribution in Adult Cases\")\n",
        "plt.xticks(rotation=45, ha='right')\n",
        "plt.tight_layout()\n",
        "plt.show()\n"
      ]
    },
    {
      "cell_type": "code",
      "execution_count": null,
      "id": "8nr_v33wDgkm",
      "metadata": {
        "id": "8nr_v33wDgkm"
      },
      "outputs": [],
      "source": [
        "import matplotlib.pyplot as plt\n",
        "\n",
        "df_adult = df[df[\"Age\"] > 10]\n",
        "\n",
        "treatment_counts_adult = df_adult[\"Recommended Treatment\"].value_counts()\n",
        "\n",
        "plt.figure(figsize=(8, 6))\n",
        "plt.pie(treatment_counts_adult, labels=treatment_counts_adult.index, autopct='%1.1f%%', startangle=140)\n",
        "plt.title(\"Recommended Treatment Distribution in Adult Cases\")\n",
        "plt.axis('equal')\n",
        "plt.tight_layout()\n",
        "plt.show()\n"
      ]
    },
    {
      "cell_type": "code",
      "execution_count": null,
      "id": "eafiuFTujWlt",
      "metadata": {
        "id": "eafiuFTujWlt"
      },
      "outputs": [],
      "source": [
        "import pandas as pd\n",
        "import matplotlib.pyplot as plt\n",
        "import textwrap\n",
        "from pandas.plotting import table\n",
        "\n",
        "def wrap_text_columns(df, columns, width=25):\n",
        "    for col in columns:\n",
        "        if col in df.columns:\n",
        "            df[col] = df[col].apply(lambda x: '\\n'.join(textwrap.wrap(str(x), width)))\n",
        "    return df\n",
        "\n",
        "ai_wrapped = wrap_text_columns(ai_results.copy(), ['Recommended Treatment', 'Wound Severity'])\n",
        "\n",
        "fig, ax = plt.subplots(figsize=(18, 10))\n",
        "ax.xaxis.set_visible(False)\n",
        "ax.yaxis.set_visible(False)\n",
        "ax.set_frame_on(False)\n",
        "\n",
        "col_widths = [0.1] * (len(ai_wrapped.columns) - 2) + [0.2, 0.25]\n",
        "\n",
        "tbl = table(ax, ai_wrapped, loc='center', colWidths=col_widths)\n",
        "tbl.auto_set_font_size(False)\n",
        "tbl.set_fontsize(10)\n",
        "tbl.scale(1.3, 1.4)\n",
        "\n",
        "plt.title(\"AI Model Results (Formatted)\", fontsize=16)\n",
        "plt.tight_layout()\n",
        "plt.savefig(\"AI_model_final_table_wrapped.png\", dpi=300, bbox_inches='tight')\n",
        "plt.show()\n"
      ]
    },
    {
      "cell_type": "code",
      "execution_count": null,
      "id": "mz6eLiIAj7B2",
      "metadata": {
        "id": "mz6eLiIAj7B2"
      },
      "outputs": [],
      "source": [
        "pediatric_df = ai_results[ai_results[\"Age\"] < 12]\n"
      ]
    },
    {
      "cell_type": "code",
      "execution_count": null,
      "id": "BF52C7EwkpJm",
      "metadata": {
        "id": "BF52C7EwkpJm"
      },
      "outputs": [],
      "source": [
        "# استدعاء مكتبة Pandas\n",
        "import pandas as pd\n",
        "\n",
        "# الحالات الخاصة بالأطفال\n",
        "pediatric_cases = pd.DataFrame([\n",
        "    {\n",
        "        \"Patient ID\": \"Pediatric-1\",\n",
        "        \"Wound Temperature (°C)\": 38.9,\n",
        "        \"pH Level\": 5.5,\n",
        "        \"Moisture (%)\": 92,\n",
        "        \"Infection Present?\": 1,\n",
        "        \"Diabetic Patient?\": 1,\n",
        "        \"Wound Type\": 0,\n",
        "        \"Healing Fast?\": 0,\n",
        "        \"Gender\": \"Male\",\n",
        "        \"Age\": 9,\n",
        "        \"Recommended Treatment\": \"Patch with Stem Cells + Antibiotic\",\n",
        "        \"Wound Severity\": \"Severe\",\n",
        "        \"Wound Status\": \"Infected\"\n",
        "    },\n",
        "    {\n",
        "        \"Patient ID\": \"Pediatric-2\",\n",
        "        \"Wound Temperature (°C)\": 35.4,\n",
        "        \"pH Level\": 7.5,\n",
        "        \"Moisture (%)\": 40,\n",
        "        \"Infection Present?\": 0,\n",
        "        \"Diabetic Patient?\": 0,\n",
        "        \"Wound Type\": 1,\n",
        "        \"Healing Fast?\": 1,\n",
        "        \"Gender\": \"Female\",\n",
        "        \"Age\": 6,\n",
        "        \"Recommended Treatment\": \"Patch with Collagen only\",\n",
        "        \"Wound Severity\": \"Mild\",\n",
        "        \"Wound Status\": \"Normal\"\n",
        "    },\n",
        "    {\n",
        "        \"Patient ID\": \"Pediatric-3\",\n",
        "        \"Wound Temperature (°C)\": 37.0,\n",
        "        \"pH Level\": 6.8,\n",
        "        \"Moisture (%)\": 70,\n",
        "        \"Infection Present?\": 1,\n",
        "        \"Diabetic Patient?\": 0,\n",
        "        \"Wound Type\": 2,\n",
        "        \"Healing Fast?\": 0,\n",
        "        \"Gender\": \"Male\",\n",
        "        \"Age\": 8,\n",
        "        \"Recommended Treatment\": \"Patch with Antimicrobial + GF\",\n",
        "        \"Wound Severity\": \"Moderate\",\n",
        "        \"Wound Status\": \"At Risk\"\n",
        "    },\n",
        "    {\n",
        "        \"Patient ID\": \"Pediatric-4\",\n",
        "        \"Wound Temperature (°C)\": 36.1,\n",
        "        \"pH Level\": 7.1,\n",
        "        \"Moisture (%)\": 55,\n",
        "        \"Infection Present?\": 1,\n",
        "        \"Diabetic Patient?\": 0,\n",
        "        \"Wound Type\": 1,\n",
        "        \"Healing Fast?\": 1,\n",
        "        \"Gender\": \"Female\",\n",
        "        \"Age\": 7,\n",
        "        \"Recommended Treatment\": \"Patch with Stem Cells only\",\n",
        "        \"Wound Severity\": \"Moderate\",\n",
        "        \"Wound Status\": \"At Risk\"\n",
        "    },\n",
        "    {\n",
        "        \"Patient ID\": \"Pediatric-5\",\n",
        "        \"Wound Temperature (°C)\": 35.5,\n",
        "        \"pH Level\": 7.2,\n",
        "        \"Moisture (%)\": 60,\n",
        "        \"Infection Present?\": 0,\n",
        "        \"Diabetic Patient?\": 0,\n",
        "        \"Wound Type\": 3,\n",
        "        \"Healing Fast?\": 0,\n",
        "        \"Gender\": \"Male\",\n",
        "        \"Age\": 5,\n",
        "        \"Recommended Treatment\": \"Patch with Collagen + Antibiotic\",\n",
        "        \"Wound Severity\": \"Moderate\",\n",
        "        \"Wound Status\": \"Normal\"\n",
        "    }\n",
        "])\n"
      ]
    },
    {
      "cell_type": "code",
      "execution_count": null,
      "id": "QQXap5rwktNR",
      "metadata": {
        "id": "QQXap5rwktNR"
      },
      "outputs": [],
      "source": [
        "#\n",
        "ai_results = pd.concat([ai_results, pediatric_cases], ignore_index=True)\n"
      ]
    },
    {
      "cell_type": "code",
      "execution_count": null,
      "id": "fyXGWtGIlFvO",
      "metadata": {
        "id": "fyXGWtGIlFvO"
      },
      "outputs": [],
      "source": [
        "pediatric_table = ai_results[ai_results[\"Patient ID\"].astype(str).str.contains(\"Pediatric\", na=False)]\n",
        "pediatric_table\n"
      ]
    },
    {
      "cell_type": "code",
      "execution_count": null,
      "id": "Swt34ii5A88p",
      "metadata": {
        "id": "Swt34ii5A88p"
      },
      "outputs": [],
      "source": [
        "import pandas as pd\n",
        "import numpy as np\n",
        "\n",
        "np.random.seed(42)\n",
        "\n",
        "n_cases = 20\n",
        "\n",
        "pediatric_data = {\n",
        "    \"Patient ID\": [f\"P{i+1}\" for i in range(n_cases)],\n",
        "    \"Wound Temperature (°C)\": np.random.uniform(35.5, 39.5, n_cases).round(1),\n",
        "    \"pH Level\": np.random.uniform(5.5, 7.5, n_cases).round(1),\n",
        "    \"Moisture (%)\": np.random.randint(40, 95, n_cases),\n",
        "    \"Infection Present?\": np.random.choice([0, 1], n_cases),\n",
        "    \"Diabetic Patient?\": np.random.choice([0, 1], n_cases),\n",
        "    \"Wound Type\": np.random.choice([0, 1, 2, 3], n_cases),\n",
        "    \"Healing Fast?\": np.random.choice([0, 1], n_cases)\n",
        "}\n",
        "\n",
        "df_pediatric = pd.DataFrame(pediatric_data)\n"
      ]
    },
    {
      "cell_type": "code",
      "execution_count": null,
      "id": "zDuww5ZFBOww",
      "metadata": {
        "id": "zDuww5ZFBOww"
      },
      "outputs": [],
      "source": [
        "def recommend_treatment(row):\n",
        "    if row[\"Infection Present?\"] == 1 and row[\"Diabetic Patient?\"] == 1 and row[\"pH Level\"] < 6.5:\n",
        "        return \"Patch with Stem Cells + Antibiotic\"\n",
        "    elif row[\"Healing Fast?\"] == 1 and row[\"Infection Present?\"] == 0:\n",
        "        return \"Patch with Collagen only\"\n",
        "    elif row[\"Infection Present?\"] == 1 and row[\"Moisture (%)\"] > 75:\n",
        "        return \"Patch with Antimicrobial + GF\"\n",
        "    elif row[\"Healing Fast?\"] == 0 and row[\"pH Level\"] < 6.2:\n",
        "        return \"Patch with Stem Cells only\"\n",
        "    else:\n",
        "        return \"Patch with Collagen + Antibiotic\"\n",
        "\n",
        "df_pediatric[\"Recommended Treatment\"] = df_pediatric.apply(recommend_treatment, axis=1)\n"
      ]
    },
    {
      "cell_type": "code",
      "execution_count": null,
      "id": "_Gfi-I9_BV7P",
      "metadata": {
        "id": "_Gfi-I9_BV7P"
      },
      "outputs": [],
      "source": [
        "df_pediatric.head(20)\n"
      ]
    },
    {
      "cell_type": "code",
      "execution_count": null,
      "id": "ZPxwDZYKBmCI",
      "metadata": {
        "id": "ZPxwDZYKBmCI"
      },
      "outputs": [],
      "source": [
        "import matplotlib.pyplot as plt\n",
        "\n",
        "treatment_counts = df_pediatric[\"Recommended Treatment\"].value_counts()\n",
        "\n",
        "plt.figure(figsize=(10, 6))\n",
        "bars = plt.bar(treatment_counts.index, treatment_counts.values, color='skyblue', edgecolor='black')\n",
        "plt.title(\"Distribution of Recommended Treatments (Pediatric Cases)\", fontsize=14)\n",
        "plt.xlabel(\"Patch Type\", fontsize=12)\n",
        "plt.ylabel(\"Number of Cases\", fontsize=12)\n",
        "plt.xticks(rotation=45, ha='right')\n",
        "\n",
        "for bar in bars:\n",
        "    height = bar.get_height()\n",
        "    plt.text(bar.get_x() + bar.get_width()/2., height + 0.1,\n",
        "             '%d' % int(height), ha='center', va='bottom', fontsize=10)\n",
        "\n",
        "plt.tight_layout()\n",
        "plt.grid(axis='y', linestyle='--', alpha=0.7)\n",
        "plt.show()\n"
      ]
    },
    {
      "cell_type": "code",
      "execution_count": null,
      "id": "F5yysyGAEk_c",
      "metadata": {
        "id": "F5yysyGAEk_c"
      },
      "outputs": [],
      "source": [
        "print(\"عدد حالات الأطفال:\", len(df_pediatric))\n",
        "print(df_pediatric)\n"
      ]
    },
    {
      "cell_type": "code",
      "execution_count": null,
      "id": "K2Pe45X_EuW7",
      "metadata": {
        "id": "K2Pe45X_EuW7"
      },
      "outputs": [],
      "source": [
        "import pandas as pd\n",
        "import random\n",
        "\n",
        "new_pediatric_cases = []\n",
        "\n",
        "for i in range(10):\n",
        "    age = random.randint(5, 10)\n",
        "    temp = round(random.uniform(36.0, 39.5), 1)\n",
        "    ph = round(random.uniform(5.8, 7.5), 1)\n",
        "    moisture = random.randint(40, 95)\n",
        "    infection = random.choice([0, 1])\n",
        "    diabetic = random.choice([0, 1])\n",
        "    wound_type = random.randint(0, 3)\n",
        "    healing_fast = random.choice([0, 1])\n",
        "    treatment = random.choice([\n",
        "        \"Patch with Stem Cells only\",\n",
        "        \"Patch with Stem Cells + Antibiotic\",\n",
        "        \"Patch with Collagen only\",\n",
        "        \"Patch with Antimicrobial + GF\",\n",
        "        \"Patch with Collagen + Antibiotic\"\n",
        "    ])\n",
        "\n",
        "    new_pediatric_cases.append([\n",
        "        f\"Pediatric_{i+1}\", temp, ph, moisture, infection, diabetic, wound_type, healing_fast, age, treatment\n",
        "    ])\n",
        "\n",
        "columns = ['Patient ID', 'Wound Temperature (°C)', 'pH Level', 'Moisture (%)',\n",
        "           'Infection Present?', 'Diabetic Patient?', 'Wound Type',\n",
        "           'Healing Fast?', 'Age', 'Recommended Treatment']\n",
        "\n",
        "df_pediatric = pd.DataFrame(new_pediatric_cases, columns=columns)\n",
        "\n",
        "#\n",
        "df = pd.concat([df, df_pediatric], ignore_index=True)\n"
      ]
    },
    {
      "cell_type": "code",
      "execution_count": null,
      "id": "q8QVq0FHFF1Y",
      "metadata": {
        "id": "q8QVq0FHFF1Y"
      },
      "outputs": [],
      "source": [
        "treatment_counts_pediatric = df_pediatric[\"Recommended Treatment\"].value_counts()\n",
        "\n",
        "plt.figure(figsize=(8, 6))\n",
        "plt.pie(treatment_counts_pediatric, labels=treatment_counts_pediatric.index, autopct='%1.1f%%', startangle=140)\n",
        "plt.title(\"Recommended Treatment Distribution in Pediatric Cases\")\n",
        "plt.axis('equal')\n",
        "plt.tight_layout()\n",
        "plt.show()\n"
      ]
    },
    {
      "cell_type": "code",
      "source": [
        "from google.colab import files\n",
        "uploaded = files.upload()\n"
      ],
      "metadata": {
        "id": "D1NL4aeeNgLD"
      },
      "id": "D1NL4aeeNgLD",
      "execution_count": null,
      "outputs": []
    },
    {
      "cell_type": "markdown",
      "source": [],
      "metadata": {
        "id": "ZLN0hO9FNfhM"
      },
      "id": "ZLN0hO9FNfhM"
    },
    {
      "cell_type": "code",
      "source": [
        "import os\n",
        "\n",
        "print(\"ملفات موجودة في المسار الحالي:\")\n",
        "print(os.listdir())\n"
      ],
      "metadata": {
        "id": "XaR3s3neR88A"
      },
      "id": "XaR3s3neR88A",
      "execution_count": null,
      "outputs": []
    },
    {
      "cell_type": "code",
      "source": [
        "from google.colab import files\n",
        "uploaded = files.upload()\n"
      ],
      "metadata": {
        "id": "ILMqlisgRhDu"
      },
      "id": "ILMqlisgRhDu",
      "execution_count": null,
      "outputs": []
    },
    {
      "cell_type": "code",
      "source": [
        "pdf_file = \"/content/patch_images/Patches.pdf\"\n"
      ],
      "metadata": {
        "id": "XyS_Z8oiXmnI"
      },
      "id": "XyS_Z8oiXmnI",
      "execution_count": null,
      "outputs": []
    },
    {
      "cell_type": "code",
      "source": [
        "import os\n",
        "os.listdir()\n"
      ],
      "metadata": {
        "id": "6d27rjSaZLtR"
      },
      "id": "6d27rjSaZLtR",
      "execution_count": null,
      "outputs": []
    },
    {
      "cell_type": "code",
      "source": [
        "import fitz\n",
        "import os\n",
        "from PIL import Image\n",
        "import matplotlib.pyplot as plt\n",
        "\n",
        "pdf_file = \"Patches .pdf\"\n",
        "os.makedirs(\"patch_images\", exist_ok=True)\n",
        "\n",
        "doc = fitz.open(pdf_file)\n",
        "image_paths = []\n",
        "\n",
        "for page_num in range(len(doc)):\n",
        "    page = doc.load_page(page_num)\n",
        "    pix = page.get_pixmap(dpi=300)\n",
        "    image_path = f\"patch_images/page_{page_num + 1}.png\"\n",
        "    pix.save(image_path)\n",
        "    image_paths.append(image_path)\n",
        "\n",
        "num_images = len(image_paths)\n",
        "cols = 2\n",
        "rows = (num_images + 1) // cols\n",
        "\n",
        "plt.figure(figsize=(12, rows * 5))\n",
        "for i, img_path in enumerate(image_paths):\n",
        "    img = Image.open(img_path)\n",
        "    plt.subplot(rows, cols, i + 1)\n",
        "    plt.imshow(img)\n",
        "    plt.axis('off')\n",
        "    plt.title(f\"Patch {i + 1}\", fontsize=14, fontweight='bold')\n",
        "plt.tight_layout()\n",
        "plt.show()\n"
      ],
      "metadata": {
        "id": "eGJbUMYacOP-"
      },
      "id": "eGJbUMYacOP-",
      "execution_count": null,
      "outputs": []
    }
  ],
  "metadata": {
    "colab": {
      "provenance": [],
      "gpuType": "T4",
      "include_colab_link": true
    },
    "kernelspec": {
      "display_name": "Python 3",
      "name": "python3"
    },
    "language_info": {
      "name": "python"
    },
    "accelerator": "GPU"
  },
  "nbformat": 4,
  "nbformat_minor": 5
}